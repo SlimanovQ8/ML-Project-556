{
 "cells": [
  {
   "cell_type": "code",
   "execution_count": 1,
   "id": "initial_id",
   "metadata": {
    "ExecuteTime": {
     "end_time": "2024-11-25T04:56:25.068134Z",
     "start_time": "2024-11-25T04:56:25.028554Z"
    }
   },
   "outputs": [
    {
     "name": "stderr",
     "output_type": "stream",
     "text": [
      "c:\\Users\\sms_7\\Desktop\\Machine Learning 556\\New folder\\Predictive-Modeling-Olympic-Medal-Trend\\venv\\lib\\site-packages\\tqdm\\auto.py:21: TqdmWarning: IProgress not found. Please update jupyter and ipywidgets. See https://ipywidgets.readthedocs.io/en/stable/user_install.html\n",
      "  from .autonotebook import tqdm as notebook_tqdm\n"
     ]
    }
   ],
   "source": [
    "\n",
    "import pandas as pd\n",
    "import numpy as np\n",
    "import os\n",
    "import matplotlib_inline\n",
    "import matplotlib.pyplot as plt\n",
    "import pandas as pd\n",
    "from statsmodels.tsa.arima.model import ARIMA\n",
    "import matplotlib.pyplot as plt\n",
    "import matplotlib.gridspec as gridspec\n",
    "import matplotlib.pyplot as plt\n",
    "from app.configs.const import FILEPATH\n",
    "from darts.models import CatBoostModel\n",
    "\n",
    "import warnings\n",
    "\n",
    "# import warnings\n",
    "# from warnings import Warning\n",
    "\n",
    "# # Suppress ValueWarning\n",
    "# warnings.filterwarnings(\"ignore\", category=Warning)\n",
    "\n",
    "# Your code here\n",
    "\n",
    "\n",
    "# !pip install -r requirements.txt"
   ]
  },
  {
   "cell_type": "markdown",
   "id": "3bd15494",
   "metadata": {},
   "source": [
    "# Sample Testing Forcasting Module"
   ]
  },
  {
   "cell_type": "markdown",
   "id": "83d855da-662a-4af0-901d-e461520553ad",
   "metadata": {},
   "source": [
    "# Explorotory Data Analysis"
   ]
  },
  {
   "cell_type": "code",
   "execution_count": 3,
   "id": "187b7bc3d27ac1b6",
   "metadata": {},
   "outputs": [
    {
     "data": {
      "text/html": [
       "<div>\n",
       "<style scoped>\n",
       "    .dataframe tbody tr th:only-of-type {\n",
       "        vertical-align: middle;\n",
       "    }\n",
       "\n",
       "    .dataframe tbody tr th {\n",
       "        vertical-align: top;\n",
       "    }\n",
       "\n",
       "    .dataframe thead th {\n",
       "        text-align: right;\n",
       "    }\n",
       "</style>\n",
       "<table border=\"1\" class=\"dataframe\">\n",
       "  <thead>\n",
       "    <tr style=\"text-align: right;\">\n",
       "      <th></th>\n",
       "      <th>Year</th>\n",
       "      <th>City</th>\n",
       "      <th>Sport</th>\n",
       "      <th>Discipline</th>\n",
       "      <th>Athlete</th>\n",
       "      <th>Country_x</th>\n",
       "      <th>Gender</th>\n",
       "      <th>Event</th>\n",
       "      <th>Medal</th>\n",
       "      <th>Country_y</th>\n",
       "      <th>Code</th>\n",
       "      <th>Population</th>\n",
       "      <th>GDP per Capita</th>\n",
       "    </tr>\n",
       "  </thead>\n",
       "  <tbody>\n",
       "    <tr>\n",
       "      <th>0</th>\n",
       "      <td>1896</td>\n",
       "      <td>Athens</td>\n",
       "      <td>Aquatics</td>\n",
       "      <td>Swimming</td>\n",
       "      <td>HAJOS, Alfred</td>\n",
       "      <td>HUN</td>\n",
       "      <td>Men</td>\n",
       "      <td>100M Freestyle</td>\n",
       "      <td>Gold</td>\n",
       "      <td>Hungary</td>\n",
       "      <td>HUN</td>\n",
       "      <td>9844686.0</td>\n",
       "      <td>12363.543460</td>\n",
       "    </tr>\n",
       "    <tr>\n",
       "      <th>1</th>\n",
       "      <td>1896</td>\n",
       "      <td>Athens</td>\n",
       "      <td>Aquatics</td>\n",
       "      <td>Swimming</td>\n",
       "      <td>HERSCHMANN, Otto</td>\n",
       "      <td>AUT</td>\n",
       "      <td>Men</td>\n",
       "      <td>100M Freestyle</td>\n",
       "      <td>Silver</td>\n",
       "      <td>Austria</td>\n",
       "      <td>AUT</td>\n",
       "      <td>8611088.0</td>\n",
       "      <td>43774.985174</td>\n",
       "    </tr>\n",
       "    <tr>\n",
       "      <th>2</th>\n",
       "      <td>1896</td>\n",
       "      <td>Athens</td>\n",
       "      <td>Aquatics</td>\n",
       "      <td>Swimming</td>\n",
       "      <td>DRIVAS, Dimitrios</td>\n",
       "      <td>GRE</td>\n",
       "      <td>Men</td>\n",
       "      <td>100M Freestyle For Sailors</td>\n",
       "      <td>Bronze</td>\n",
       "      <td>Greece</td>\n",
       "      <td>GRE</td>\n",
       "      <td>10823732.0</td>\n",
       "      <td>18002.230578</td>\n",
       "    </tr>\n",
       "    <tr>\n",
       "      <th>3</th>\n",
       "      <td>1896</td>\n",
       "      <td>Athens</td>\n",
       "      <td>Aquatics</td>\n",
       "      <td>Swimming</td>\n",
       "      <td>MALOKINIS, Ioannis</td>\n",
       "      <td>GRE</td>\n",
       "      <td>Men</td>\n",
       "      <td>100M Freestyle For Sailors</td>\n",
       "      <td>Gold</td>\n",
       "      <td>Greece</td>\n",
       "      <td>GRE</td>\n",
       "      <td>10823732.0</td>\n",
       "      <td>18002.230578</td>\n",
       "    </tr>\n",
       "    <tr>\n",
       "      <th>4</th>\n",
       "      <td>1896</td>\n",
       "      <td>Athens</td>\n",
       "      <td>Aquatics</td>\n",
       "      <td>Swimming</td>\n",
       "      <td>CHASAPIS, Spiridon</td>\n",
       "      <td>GRE</td>\n",
       "      <td>Men</td>\n",
       "      <td>100M Freestyle For Sailors</td>\n",
       "      <td>Silver</td>\n",
       "      <td>Greece</td>\n",
       "      <td>GRE</td>\n",
       "      <td>10823732.0</td>\n",
       "      <td>18002.230578</td>\n",
       "    </tr>\n",
       "    <tr>\n",
       "      <th>...</th>\n",
       "      <td>...</td>\n",
       "      <td>...</td>\n",
       "      <td>...</td>\n",
       "      <td>...</td>\n",
       "      <td>...</td>\n",
       "      <td>...</td>\n",
       "      <td>...</td>\n",
       "      <td>...</td>\n",
       "      <td>...</td>\n",
       "      <td>...</td>\n",
       "      <td>...</td>\n",
       "      <td>...</td>\n",
       "      <td>...</td>\n",
       "    </tr>\n",
       "    <tr>\n",
       "      <th>25737</th>\n",
       "      <td>2012</td>\n",
       "      <td>London</td>\n",
       "      <td>Wrestling</td>\n",
       "      <td>Wrestling Freestyle</td>\n",
       "      <td>JANIKOWSKI, Damian</td>\n",
       "      <td>POL</td>\n",
       "      <td>Men</td>\n",
       "      <td>Wg 84 KG</td>\n",
       "      <td>Bronze</td>\n",
       "      <td>Poland</td>\n",
       "      <td>POL</td>\n",
       "      <td>37999494.0</td>\n",
       "      <td>12554.547554</td>\n",
       "    </tr>\n",
       "    <tr>\n",
       "      <th>25738</th>\n",
       "      <td>2012</td>\n",
       "      <td>London</td>\n",
       "      <td>Wrestling</td>\n",
       "      <td>Wrestling Freestyle</td>\n",
       "      <td>REZAEI, Ghasem Gholamreza</td>\n",
       "      <td>IRI</td>\n",
       "      <td>Men</td>\n",
       "      <td>Wg 96 KG</td>\n",
       "      <td>Gold</td>\n",
       "      <td>Iran</td>\n",
       "      <td>IRI</td>\n",
       "      <td>79109272.0</td>\n",
       "      <td>NaN</td>\n",
       "    </tr>\n",
       "    <tr>\n",
       "      <th>25739</th>\n",
       "      <td>2012</td>\n",
       "      <td>London</td>\n",
       "      <td>Wrestling</td>\n",
       "      <td>Wrestling Freestyle</td>\n",
       "      <td>TOTROV, Rustam</td>\n",
       "      <td>RUS</td>\n",
       "      <td>Men</td>\n",
       "      <td>Wg 96 KG</td>\n",
       "      <td>Silver</td>\n",
       "      <td>Russia</td>\n",
       "      <td>RUS</td>\n",
       "      <td>144096812.0</td>\n",
       "      <td>9092.580536</td>\n",
       "    </tr>\n",
       "    <tr>\n",
       "      <th>25740</th>\n",
       "      <td>2012</td>\n",
       "      <td>London</td>\n",
       "      <td>Wrestling</td>\n",
       "      <td>Wrestling Freestyle</td>\n",
       "      <td>ALEKSANYAN, Artur</td>\n",
       "      <td>ARM</td>\n",
       "      <td>Men</td>\n",
       "      <td>Wg 96 KG</td>\n",
       "      <td>Bronze</td>\n",
       "      <td>Armenia</td>\n",
       "      <td>ARM</td>\n",
       "      <td>3017712.0</td>\n",
       "      <td>3489.127690</td>\n",
       "    </tr>\n",
       "    <tr>\n",
       "      <th>25741</th>\n",
       "      <td>2012</td>\n",
       "      <td>London</td>\n",
       "      <td>Wrestling</td>\n",
       "      <td>Wrestling Freestyle</td>\n",
       "      <td>LIDBERG, Jimmy</td>\n",
       "      <td>SWE</td>\n",
       "      <td>Men</td>\n",
       "      <td>Wg 96 KG</td>\n",
       "      <td>Bronze</td>\n",
       "      <td>Sweden</td>\n",
       "      <td>SWE</td>\n",
       "      <td>9798871.0</td>\n",
       "      <td>50579.673649</td>\n",
       "    </tr>\n",
       "  </tbody>\n",
       "</table>\n",
       "<p>25742 rows × 13 columns</p>\n",
       "</div>"
      ],
      "text/plain": [
       "       Year    City      Sport           Discipline  \\\n",
       "0      1896  Athens   Aquatics             Swimming   \n",
       "1      1896  Athens   Aquatics             Swimming   \n",
       "2      1896  Athens   Aquatics             Swimming   \n",
       "3      1896  Athens   Aquatics             Swimming   \n",
       "4      1896  Athens   Aquatics             Swimming   \n",
       "...     ...     ...        ...                  ...   \n",
       "25737  2012  London  Wrestling  Wrestling Freestyle   \n",
       "25738  2012  London  Wrestling  Wrestling Freestyle   \n",
       "25739  2012  London  Wrestling  Wrestling Freestyle   \n",
       "25740  2012  London  Wrestling  Wrestling Freestyle   \n",
       "25741  2012  London  Wrestling  Wrestling Freestyle   \n",
       "\n",
       "                         Athlete Country_x Gender                       Event  \\\n",
       "0                  HAJOS, Alfred       HUN    Men              100M Freestyle   \n",
       "1               HERSCHMANN, Otto       AUT    Men              100M Freestyle   \n",
       "2              DRIVAS, Dimitrios       GRE    Men  100M Freestyle For Sailors   \n",
       "3             MALOKINIS, Ioannis       GRE    Men  100M Freestyle For Sailors   \n",
       "4             CHASAPIS, Spiridon       GRE    Men  100M Freestyle For Sailors   \n",
       "...                          ...       ...    ...                         ...   \n",
       "25737         JANIKOWSKI, Damian       POL    Men                    Wg 84 KG   \n",
       "25738  REZAEI, Ghasem Gholamreza       IRI    Men                    Wg 96 KG   \n",
       "25739             TOTROV, Rustam       RUS    Men                    Wg 96 KG   \n",
       "25740          ALEKSANYAN, Artur       ARM    Men                    Wg 96 KG   \n",
       "25741             LIDBERG, Jimmy       SWE    Men                    Wg 96 KG   \n",
       "\n",
       "        Medal Country_y Code   Population  GDP per Capita  \n",
       "0        Gold   Hungary  HUN    9844686.0    12363.543460  \n",
       "1      Silver   Austria  AUT    8611088.0    43774.985174  \n",
       "2      Bronze    Greece  GRE   10823732.0    18002.230578  \n",
       "3        Gold    Greece  GRE   10823732.0    18002.230578  \n",
       "4      Silver    Greece  GRE   10823732.0    18002.230578  \n",
       "...       ...       ...  ...          ...             ...  \n",
       "25737  Bronze    Poland  POL   37999494.0    12554.547554  \n",
       "25738    Gold      Iran  IRI   79109272.0             NaN  \n",
       "25739  Silver    Russia  RUS  144096812.0     9092.580536  \n",
       "25740  Bronze   Armenia  ARM    3017712.0     3489.127690  \n",
       "25741  Bronze    Sweden  SWE    9798871.0    50579.673649  \n",
       "\n",
       "[25742 rows x 13 columns]"
      ]
     },
     "execution_count": 3,
     "metadata": {},
     "output_type": "execute_result"
    }
   ],
   "source": [
    "winter_data_df = pd.read_csv(FILEPATH['winter_data'])\n",
    "summar_data_df = pd.read_csv(FILEPATH['summar_data'])\n",
    "dictionary_data_df = pd.read_csv(FILEPATH['dictionary_data'])\n",
    "winter_data_merged_df = pd.merge(\n",
    "    winter_data_df, dictionary_data_df, left_on='Country', right_on='Code')\n",
    "summar_data_merged_df = pd.merge(\n",
    "    summar_data_df, dictionary_data_df, left_on='Country', right_on='Code')\n",
    "\n",
    "summar_data_merged_df.to_csv(\"summar_data_merged_df.csv\", index=False)\n",
    "summar_data_merged_df"
   ]
  },
  {
   "cell_type": "code",
   "execution_count": 6,
   "id": "3f742ebd",
   "metadata": {},
   "outputs": [
    {
     "data": {
      "text/plain": [
       "1924"
      ]
     },
     "execution_count": 6,
     "metadata": {},
     "output_type": "execute_result"
    }
   ],
   "source": [
    "winter_data_merged_df['Year'].min()"
   ]
  },
  {
   "cell_type": "code",
   "execution_count": 5,
   "id": "f429bbdf",
   "metadata": {},
   "outputs": [
    {
     "data": {
      "text/plain": [
       "1896"
      ]
     },
     "execution_count": 5,
     "metadata": {},
     "output_type": "execute_result"
    }
   ],
   "source": [
    "summar_data_merged_df['Year'].min()"
   ]
  },
  {
   "cell_type": "code",
   "execution_count": 8,
   "id": "b61eac46",
   "metadata": {},
   "outputs": [
    {
     "data": {
      "text/plain": [
       "65235.0"
      ]
     },
     "execution_count": 8,
     "metadata": {},
     "output_type": "execute_result"
    }
   ],
   "source": [
    "summar_data_merged_df['Population'].max()\n",
    "summar_data_merged_df['Population'].min()"
   ]
  },
  {
   "cell_type": "code",
   "execution_count": null,
   "id": "637cda56",
   "metadata": {},
   "outputs": [
    {
     "name": "stderr",
     "output_type": "stream",
     "text": [
      "/tmp/ipykernel_11676/1493262063.py:16: FutureWarning: The default of observed=False is deprecated and will be changed to True in a future version of pandas. Pass observed=False to retain current behavior or observed=True to adopt the future default and silence this warning.\n",
      "  medal_analysis = summar_data_merged_df.groupby(['GDP Category', 'Population Category', 'Country_y'])['Medal'].count().reset_index()\n"
     ]
    }
   ],
   "source": [
    "# Categorize GDP per capita\n",
    "bins_gdp = [-float('inf'), 10000, 30000, float('inf')]\n",
    "labels_gdp = ['Low Income', 'Middle Income', 'High Income']\n",
    "summar_data_merged_df['GDP Category'] = pd.cut(\n",
    "    summar_data_merged_df['GDP per Capita'], bins=bins_gdp, labels=labels_gdp\n",
    ")\n",
    "\n",
    "# Categorize Population\n",
    "bins_pop = [0, 1e7, 5e7, float('inf')]\n",
    "labels_pop = ['Small Population', 'Medium Population', 'Large Population']\n",
    "summar_data_merged_df['Population Category'] = pd.cut(\n",
    "    summar_data_merged_df['Population'], bins=bins_pop, labels=labels_pop\n",
    ")\n",
    "\n",
    "# Group by categories and calculate total medals\n",
    "medal_analysis = summar_data_merged_df.groupby(['GDP Category', 'Population Category', 'Country_y'])['Medal'].count().reset_index()\n",
    "\n",
    "# Identify top countries with high medal counts\n",
    "top_medal_countries = medal_analysis.sort_values('Medal', ascending=False).head(10)\n"
   ]
  },
  {
   "cell_type": "code",
   "execution_count": 6,
   "id": "37f14daf",
   "metadata": {},
   "outputs": [
    {
     "data": {
      "text/html": [
       "<div>\n",
       "<style scoped>\n",
       "    .dataframe tbody tr th:only-of-type {\n",
       "        vertical-align: middle;\n",
       "    }\n",
       "\n",
       "    .dataframe tbody tr th {\n",
       "        vertical-align: top;\n",
       "    }\n",
       "\n",
       "    .dataframe thead th {\n",
       "        text-align: right;\n",
       "    }\n",
       "</style>\n",
       "<table border=\"1\" class=\"dataframe\">\n",
       "  <thead>\n",
       "    <tr style=\"text-align: right;\">\n",
       "      <th></th>\n",
       "      <th>Year</th>\n",
       "      <th>City</th>\n",
       "      <th>Sport</th>\n",
       "      <th>Discipline</th>\n",
       "      <th>Athlete</th>\n",
       "      <th>Country_x</th>\n",
       "      <th>Gender</th>\n",
       "      <th>Event</th>\n",
       "      <th>Medal</th>\n",
       "      <th>Country_y</th>\n",
       "      <th>Code</th>\n",
       "      <th>Population</th>\n",
       "      <th>GDP per Capita</th>\n",
       "      <th>GDP Category</th>\n",
       "      <th>Population Category</th>\n",
       "    </tr>\n",
       "  </thead>\n",
       "  <tbody>\n",
       "    <tr>\n",
       "      <th>0</th>\n",
       "      <td>1896</td>\n",
       "      <td>Athens</td>\n",
       "      <td>Aquatics</td>\n",
       "      <td>Swimming</td>\n",
       "      <td>HAJOS, Alfred</td>\n",
       "      <td>HUN</td>\n",
       "      <td>Men</td>\n",
       "      <td>100M Freestyle</td>\n",
       "      <td>Gold</td>\n",
       "      <td>Hungary</td>\n",
       "      <td>HUN</td>\n",
       "      <td>9844686.0</td>\n",
       "      <td>12363.543460</td>\n",
       "      <td>Middle Income</td>\n",
       "      <td>Small Population</td>\n",
       "    </tr>\n",
       "    <tr>\n",
       "      <th>1</th>\n",
       "      <td>1896</td>\n",
       "      <td>Athens</td>\n",
       "      <td>Aquatics</td>\n",
       "      <td>Swimming</td>\n",
       "      <td>HERSCHMANN, Otto</td>\n",
       "      <td>AUT</td>\n",
       "      <td>Men</td>\n",
       "      <td>100M Freestyle</td>\n",
       "      <td>Silver</td>\n",
       "      <td>Austria</td>\n",
       "      <td>AUT</td>\n",
       "      <td>8611088.0</td>\n",
       "      <td>43774.985174</td>\n",
       "      <td>High Income</td>\n",
       "      <td>Small Population</td>\n",
       "    </tr>\n",
       "    <tr>\n",
       "      <th>2</th>\n",
       "      <td>1896</td>\n",
       "      <td>Athens</td>\n",
       "      <td>Aquatics</td>\n",
       "      <td>Swimming</td>\n",
       "      <td>DRIVAS, Dimitrios</td>\n",
       "      <td>GRE</td>\n",
       "      <td>Men</td>\n",
       "      <td>100M Freestyle For Sailors</td>\n",
       "      <td>Bronze</td>\n",
       "      <td>Greece</td>\n",
       "      <td>GRE</td>\n",
       "      <td>10823732.0</td>\n",
       "      <td>18002.230578</td>\n",
       "      <td>Middle Income</td>\n",
       "      <td>Medium Population</td>\n",
       "    </tr>\n",
       "    <tr>\n",
       "      <th>3</th>\n",
       "      <td>1896</td>\n",
       "      <td>Athens</td>\n",
       "      <td>Aquatics</td>\n",
       "      <td>Swimming</td>\n",
       "      <td>MALOKINIS, Ioannis</td>\n",
       "      <td>GRE</td>\n",
       "      <td>Men</td>\n",
       "      <td>100M Freestyle For Sailors</td>\n",
       "      <td>Gold</td>\n",
       "      <td>Greece</td>\n",
       "      <td>GRE</td>\n",
       "      <td>10823732.0</td>\n",
       "      <td>18002.230578</td>\n",
       "      <td>Middle Income</td>\n",
       "      <td>Medium Population</td>\n",
       "    </tr>\n",
       "    <tr>\n",
       "      <th>4</th>\n",
       "      <td>1896</td>\n",
       "      <td>Athens</td>\n",
       "      <td>Aquatics</td>\n",
       "      <td>Swimming</td>\n",
       "      <td>CHASAPIS, Spiridon</td>\n",
       "      <td>GRE</td>\n",
       "      <td>Men</td>\n",
       "      <td>100M Freestyle For Sailors</td>\n",
       "      <td>Silver</td>\n",
       "      <td>Greece</td>\n",
       "      <td>GRE</td>\n",
       "      <td>10823732.0</td>\n",
       "      <td>18002.230578</td>\n",
       "      <td>Middle Income</td>\n",
       "      <td>Medium Population</td>\n",
       "    </tr>\n",
       "    <tr>\n",
       "      <th>...</th>\n",
       "      <td>...</td>\n",
       "      <td>...</td>\n",
       "      <td>...</td>\n",
       "      <td>...</td>\n",
       "      <td>...</td>\n",
       "      <td>...</td>\n",
       "      <td>...</td>\n",
       "      <td>...</td>\n",
       "      <td>...</td>\n",
       "      <td>...</td>\n",
       "      <td>...</td>\n",
       "      <td>...</td>\n",
       "      <td>...</td>\n",
       "      <td>...</td>\n",
       "      <td>...</td>\n",
       "    </tr>\n",
       "    <tr>\n",
       "      <th>25737</th>\n",
       "      <td>2012</td>\n",
       "      <td>London</td>\n",
       "      <td>Wrestling</td>\n",
       "      <td>Wrestling Freestyle</td>\n",
       "      <td>JANIKOWSKI, Damian</td>\n",
       "      <td>POL</td>\n",
       "      <td>Men</td>\n",
       "      <td>Wg 84 KG</td>\n",
       "      <td>Bronze</td>\n",
       "      <td>Poland</td>\n",
       "      <td>POL</td>\n",
       "      <td>37999494.0</td>\n",
       "      <td>12554.547554</td>\n",
       "      <td>Middle Income</td>\n",
       "      <td>Medium Population</td>\n",
       "    </tr>\n",
       "    <tr>\n",
       "      <th>25738</th>\n",
       "      <td>2012</td>\n",
       "      <td>London</td>\n",
       "      <td>Wrestling</td>\n",
       "      <td>Wrestling Freestyle</td>\n",
       "      <td>REZAEI, Ghasem Gholamreza</td>\n",
       "      <td>IRI</td>\n",
       "      <td>Men</td>\n",
       "      <td>Wg 96 KG</td>\n",
       "      <td>Gold</td>\n",
       "      <td>Iran</td>\n",
       "      <td>IRI</td>\n",
       "      <td>79109272.0</td>\n",
       "      <td>NaN</td>\n",
       "      <td>NaN</td>\n",
       "      <td>Large Population</td>\n",
       "    </tr>\n",
       "    <tr>\n",
       "      <th>25739</th>\n",
       "      <td>2012</td>\n",
       "      <td>London</td>\n",
       "      <td>Wrestling</td>\n",
       "      <td>Wrestling Freestyle</td>\n",
       "      <td>TOTROV, Rustam</td>\n",
       "      <td>RUS</td>\n",
       "      <td>Men</td>\n",
       "      <td>Wg 96 KG</td>\n",
       "      <td>Silver</td>\n",
       "      <td>Russia</td>\n",
       "      <td>RUS</td>\n",
       "      <td>144096812.0</td>\n",
       "      <td>9092.580536</td>\n",
       "      <td>Low Income</td>\n",
       "      <td>Large Population</td>\n",
       "    </tr>\n",
       "    <tr>\n",
       "      <th>25740</th>\n",
       "      <td>2012</td>\n",
       "      <td>London</td>\n",
       "      <td>Wrestling</td>\n",
       "      <td>Wrestling Freestyle</td>\n",
       "      <td>ALEKSANYAN, Artur</td>\n",
       "      <td>ARM</td>\n",
       "      <td>Men</td>\n",
       "      <td>Wg 96 KG</td>\n",
       "      <td>Bronze</td>\n",
       "      <td>Armenia</td>\n",
       "      <td>ARM</td>\n",
       "      <td>3017712.0</td>\n",
       "      <td>3489.127690</td>\n",
       "      <td>Low Income</td>\n",
       "      <td>Small Population</td>\n",
       "    </tr>\n",
       "    <tr>\n",
       "      <th>25741</th>\n",
       "      <td>2012</td>\n",
       "      <td>London</td>\n",
       "      <td>Wrestling</td>\n",
       "      <td>Wrestling Freestyle</td>\n",
       "      <td>LIDBERG, Jimmy</td>\n",
       "      <td>SWE</td>\n",
       "      <td>Men</td>\n",
       "      <td>Wg 96 KG</td>\n",
       "      <td>Bronze</td>\n",
       "      <td>Sweden</td>\n",
       "      <td>SWE</td>\n",
       "      <td>9798871.0</td>\n",
       "      <td>50579.673649</td>\n",
       "      <td>High Income</td>\n",
       "      <td>Small Population</td>\n",
       "    </tr>\n",
       "  </tbody>\n",
       "</table>\n",
       "<p>25742 rows × 15 columns</p>\n",
       "</div>"
      ],
      "text/plain": [
       "       Year    City      Sport           Discipline  \\\n",
       "0      1896  Athens   Aquatics             Swimming   \n",
       "1      1896  Athens   Aquatics             Swimming   \n",
       "2      1896  Athens   Aquatics             Swimming   \n",
       "3      1896  Athens   Aquatics             Swimming   \n",
       "4      1896  Athens   Aquatics             Swimming   \n",
       "...     ...     ...        ...                  ...   \n",
       "25737  2012  London  Wrestling  Wrestling Freestyle   \n",
       "25738  2012  London  Wrestling  Wrestling Freestyle   \n",
       "25739  2012  London  Wrestling  Wrestling Freestyle   \n",
       "25740  2012  London  Wrestling  Wrestling Freestyle   \n",
       "25741  2012  London  Wrestling  Wrestling Freestyle   \n",
       "\n",
       "                         Athlete Country_x Gender                       Event  \\\n",
       "0                  HAJOS, Alfred       HUN    Men              100M Freestyle   \n",
       "1               HERSCHMANN, Otto       AUT    Men              100M Freestyle   \n",
       "2              DRIVAS, Dimitrios       GRE    Men  100M Freestyle For Sailors   \n",
       "3             MALOKINIS, Ioannis       GRE    Men  100M Freestyle For Sailors   \n",
       "4             CHASAPIS, Spiridon       GRE    Men  100M Freestyle For Sailors   \n",
       "...                          ...       ...    ...                         ...   \n",
       "25737         JANIKOWSKI, Damian       POL    Men                    Wg 84 KG   \n",
       "25738  REZAEI, Ghasem Gholamreza       IRI    Men                    Wg 96 KG   \n",
       "25739             TOTROV, Rustam       RUS    Men                    Wg 96 KG   \n",
       "25740          ALEKSANYAN, Artur       ARM    Men                    Wg 96 KG   \n",
       "25741             LIDBERG, Jimmy       SWE    Men                    Wg 96 KG   \n",
       "\n",
       "        Medal Country_y Code   Population  GDP per Capita   GDP Category  \\\n",
       "0        Gold   Hungary  HUN    9844686.0    12363.543460  Middle Income   \n",
       "1      Silver   Austria  AUT    8611088.0    43774.985174    High Income   \n",
       "2      Bronze    Greece  GRE   10823732.0    18002.230578  Middle Income   \n",
       "3        Gold    Greece  GRE   10823732.0    18002.230578  Middle Income   \n",
       "4      Silver    Greece  GRE   10823732.0    18002.230578  Middle Income   \n",
       "...       ...       ...  ...          ...             ...            ...   \n",
       "25737  Bronze    Poland  POL   37999494.0    12554.547554  Middle Income   \n",
       "25738    Gold      Iran  IRI   79109272.0             NaN            NaN   \n",
       "25739  Silver    Russia  RUS  144096812.0     9092.580536     Low Income   \n",
       "25740  Bronze   Armenia  ARM    3017712.0     3489.127690     Low Income   \n",
       "25741  Bronze    Sweden  SWE    9798871.0    50579.673649    High Income   \n",
       "\n",
       "      Population Category  \n",
       "0        Small Population  \n",
       "1        Small Population  \n",
       "2       Medium Population  \n",
       "3       Medium Population  \n",
       "4       Medium Population  \n",
       "...                   ...  \n",
       "25737   Medium Population  \n",
       "25738    Large Population  \n",
       "25739    Large Population  \n",
       "25740    Small Population  \n",
       "25741    Small Population  \n",
       "\n",
       "[25742 rows x 15 columns]"
      ]
     },
     "execution_count": 6,
     "metadata": {},
     "output_type": "execute_result"
    }
   ],
   "source": [
    "summar_data_merged_df"
   ]
  },
  {
   "cell_type": "code",
   "execution_count": 5,
   "id": "49761eff",
   "metadata": {},
   "outputs": [
    {
     "data": {
      "image/png": "[encoded data removed]",
      "text/plain": [
       "<Figure size 640x480 with 1 Axes>"
      ]
     },
     "metadata": {},
     "output_type": "display_data"
    },
    {
     "name": "stderr",
     "output_type": "stream",
     "text": [
      "/tmp/ipykernel_11676/2372044866.py:11: FutureWarning: The default value of observed=False is deprecated and will change to observed=True in a future version of pandas. Specify observed=False to silence this warning and retain the current behavior\n",
      "  heatmap_data = medal_analysis.pivot_table(\n"
     ]
    },
    {
     "data": {
      "image/png": "[encoded data removed]",
      "text/plain": [
       "<Figure size 640x480 with 2 Axes>"
      ]
     },
     "metadata": {},
     "output_type": "display_data"
    }
   ],
   "source": [
    "import seaborn as sns\n",
    "import matplotlib.pyplot as plt\n",
    "\n",
    "# Bar plot for top countries\n",
    "sns.barplot(data=top_medal_countries, x='Country_y', y='Medal', hue='GDP Category')\n",
    "plt.title('Medal Counts by Country and GDP Category')\n",
    "plt.xticks(rotation=45)\n",
    "plt.show()\n",
    "\n",
    "# Heatmap for population vs GDP categories\n",
    "heatmap_data = medal_analysis.pivot_table(\n",
    "    index='GDP Category', columns='Population Category', values='Medal', aggfunc='sum'\n",
    ")\n",
    "sns.heatmap(heatmap_data, annot=True, cmap='Blues')\n",
    "plt.title('Medal Distribution by GDP and Population Categories')\n",
    "plt.show()\n"
   ]
  },
  {
   "cell_type": "markdown",
   "id": "b8da01fd",
   "metadata": {},
   "source": [
    "## Year"
   ]
  },
  {
   "cell_type": "code",
   "execution_count": null,
   "id": "886f9ac9",
   "metadata": {},
   "outputs": [
    {
     "data": {
      "image/png": "[encoded data removed]",
      "text/plain": [
       "<Figure size 1000x500 with 1 Axes>"
      ]
     },
     "metadata": {},
     "output_type": "display_data"
    }
   ],
   "source": [
    "unique_years = summar_data_merged_df['Year'].unique()\n",
    "\n",
    "# Sort the unique years for better visualization\n",
    "unique_years.sort()\n",
    "\n",
    "# Plot the unique years\n",
    "plt.figure(figsize=(10, 5))\n",
    "plt.plot(unique_years, marker='o', linestyle='-', color='b')\n",
    "plt.title('Unique Years in the Dataset')\n",
    "plt.xlabel('Number of unique years')\n",
    "plt.ylabel('Year')\n",
    "plt.grid(True)\n",
    "plt.show()"
   ]
  },
  {
   "cell_type": "markdown",
   "id": "73e47188",
   "metadata": {},
   "source": [
    "## Country "
   ]
  },
  {
   "cell_type": "code",
   "execution_count": 25,
   "id": "48643346",
   "metadata": {},
   "outputs": [
    {
     "data": {
      "text/plain": [
       "array(['HUN', 'AUT', 'GRE', 'USA', 'GER', 'GBR', 'FRA', 'AUS', 'DEN',\n",
       "       'SUI', 'NED', 'BEL', 'IND', 'CAN', 'SWE', 'NOR', 'ESP', 'ITA',\n",
       "       'CUB', 'RSA', 'FIN', 'EST', 'NZL', 'BRA', 'JPN', 'LUX', 'ARG',\n",
       "       'POL', 'POR', 'URU', 'HAI', 'EGY', 'PHI', 'IRL', 'CHI', 'LAT',\n",
       "       'MEX', 'TUR', 'PAN', 'JAM', 'SRI', 'KOR', 'PUR', 'PER', 'IRI',\n",
       "       'TRI', 'VEN', 'BUL', 'LIB', 'ISL', 'PAK', 'BAH', 'TPE', 'ETH',\n",
       "       'MAR', 'GHA', 'IRQ', 'SIN', 'TUN', 'KEN', 'NGR', 'UGA', 'CMR',\n",
       "       'MGL', 'PRK', 'COL', 'NIG', 'THA', 'BER', 'TAN', 'GUY', 'ZIM',\n",
       "       'CHN', 'CIV', 'ZAM', 'DOM', 'ALG', 'SYR', 'SUR', 'CRC', 'INA',\n",
       "       'SEN', 'DJI', 'AHO', 'ISV', 'NAM', 'QAT', 'LTU', 'MAS', 'CRO',\n",
       "       'ISR', 'SLO', 'RUS', 'UKR', 'ECU', 'BDI', 'MOZ', 'CZE', 'BLR',\n",
       "       'TGA', 'KAZ', 'UZB', 'SVK', 'MDA', 'GEO', 'HKG', 'ARM', 'AZE',\n",
       "       'BAR', 'KSA', 'KGZ', 'KUW', 'VIE', 'MKD', 'SCG', 'ERI', 'PAR',\n",
       "       'UAE', 'SUD', 'MRI', 'TOG', 'TJK', 'AFG', 'BRN', 'GUA', 'GRN',\n",
       "       'BOT', 'CYP', 'GAB'], dtype=object)"
      ]
     },
     "execution_count": 25,
     "metadata": {},
     "output_type": "execute_result"
    }
   ],
   "source": [
    "summar_data_merged_df['Code'].unique()"
   ]
  },
  {
   "cell_type": "code",
   "execution_count": null,
   "id": "8e5e08e0",
   "metadata": {},
   "outputs": [
    {
     "name": "stdout",
     "output_type": "stream",
     "text": [
      "Total Countries: 129\n"
     ]
    },
    {
     "data": {
      "text/plain": [
       "array(['Hungary', 'Austria', 'Greece', 'United States', 'Germany',\n",
       "       'United Kingdom', 'France', 'Australia', 'Denmark', 'Switzerland',\n",
       "       'Netherlands', 'Belgium', 'India', 'Canada', 'Sweden', 'Norway',\n",
       "       'Spain', 'Italy', 'Cuba', 'South Africa', 'Finland', 'Estonia',\n",
       "       'New Zealand', 'Brazil', 'Japan', 'Luxembourg', 'Argentina',\n",
       "       'Poland', 'Portugal', 'Uruguay', 'Haiti', 'Egypt', 'Philippines',\n",
       "       'Ireland', 'Chile', 'Latvia', 'Mexico', 'Turkey', 'Panama',\n",
       "       'Jamaica', 'Sri Lanka', 'Korea, South', 'Puerto Rico*', 'Peru',\n",
       "       'Iran', 'Trinidad and Tobago', 'Venezuela', 'Bulgaria', 'Lebanon',\n",
       "       'Iceland', 'Pakistan', 'Bahamas', 'Taiwan', 'Ethiopia', 'Morocco',\n",
       "       'Ghana', 'Iraq', 'Singapore', 'Tunisia', 'Kenya', 'Nigeria',\n",
       "       'Uganda', 'Cameroon', 'Mongolia', 'Korea, North', 'Colombia',\n",
       "       'Niger', 'Thailand', 'Bermuda*', 'Tanzania', 'Guyana', 'Zimbabwe',\n",
       "       'China', \"Cote d'Ivoire\", 'Zambia', 'Dominican Republic',\n",
       "       'Algeria', 'Syria', 'Suriname', 'Costa Rica', 'Indonesia',\n",
       "       'Senegal', 'Djibouti', 'Netherlands Antilles*', 'Virgin Islands*',\n",
       "       'Namibia', 'Qatar', 'Lithuania', 'Malaysia', 'Croatia', 'Israel',\n",
       "       'Slovenia', 'Russia', 'Ukraine', 'Ecuador', 'Burundi',\n",
       "       'Mozambique', 'Czech Republic', 'Belarus', 'Tonga', 'Kazakhstan',\n",
       "       'Uzbekistan', 'Slovakia', 'Moldova', 'Georgia', 'Hong Kong*',\n",
       "       'Armenia', 'Azerbaijan', 'Barbados', 'Saudi Arabia', 'Kyrgyzstan',\n",
       "       'Kuwait', 'Vietnam', 'Macedonia', 'Serbia', 'Eritrea', 'Paraguay',\n",
       "       'United Arab Emirates', 'Sudan', 'Mauritius', 'Togo', 'Tajikistan',\n",
       "       'Afghanistan', 'Bahrain', 'Guatemala', 'Grenada', 'Botswana',\n",
       "       'Cyprus', 'Gabon'], dtype=object)"
      ]
     },
     "execution_count": 21,
     "metadata": {},
     "output_type": "execute_result"
    }
   ],
   "source": [
    "total_counteries = len(summar_data_merged_df['Country_y'].unique())\n",
    "print('Total Countries: %d' % total_counteries)\n",
    "\n",
    "summar_data_merged_df['Country_y'].unique()"
   ]
  },
  {
   "cell_type": "markdown",
   "id": "17a3ab64",
   "metadata": {},
   "source": [
    "## Sports"
   ]
  },
  {
   "cell_type": "code",
   "execution_count": 32,
   "id": "060adf17",
   "metadata": {},
   "outputs": [
    {
     "data": {
      "text/plain": [
       "array(['Aquatics', 'Athletics', 'Cycling', 'Fencing', 'Gymnastics',\n",
       "       'Shooting', 'Tennis', 'Weightlifting', 'Wrestling', 'Archery',\n",
       "       'Basque Pelota', 'Cricket', 'Croquet', 'Equestrian', 'Football',\n",
       "       'Golf', 'Rowing', 'Rugby', 'Sailing', 'Tug of War', 'Boxing',\n",
       "       'Lacrosse', 'Roque', 'Hockey', 'Jeu de paume', 'Polo', 'Rackets',\n",
       "       'Skating', 'Water Motorsports', 'Modern Pentathlon', 'Ice Hockey',\n",
       "       'Basketball', 'Canoe / Kayak', 'Handball', 'Judo', 'Volleyball',\n",
       "       'Table Tennis', 'Badminton', 'Baseball', 'Softball', 'Taekwondo',\n",
       "       'Triathlon', 'Canoe'], dtype=object)"
      ]
     },
     "execution_count": 32,
     "metadata": {},
     "output_type": "execute_result"
    }
   ],
   "source": [
    "summ_count_sports = summar_data_merged_df['Sport'].unique()\n",
    "summ_count_sports"
   ]
  },
  {
   "cell_type": "code",
   "execution_count": null,
   "id": "4c1b8347",
   "metadata": {},
   "outputs": [
    {
     "data": {
      "text/plain": [
       "array(['Biathlon', 'Bobsleigh', 'Curling', 'Ice Hockey', 'Skating',\n",
       "       'Skiing', 'Luge'], dtype=object)"
      ]
     },
     "execution_count": 33,
     "metadata": {},
     "output_type": "execute_result"
    }
   ],
   "source": [
    "winter_count_sports = winter_data_merged_df['Sport'].unique()\n",
    "\n",
    "winter_count_sports"
   ]
  },
  {
   "cell_type": "markdown",
   "id": "ece13688",
   "metadata": {},
   "source": [
    "## Discipline "
   ]
  },
  {
   "cell_type": "code",
   "execution_count": null,
   "id": "dc22ef6f",
   "metadata": {},
   "outputs": [
    {
     "data": {
      "text/plain": [
       "array(['Swimming', 'Athletics', 'Cycling Road', 'Cycling Track',\n",
       "       'Fencing', 'Artistic G.', 'Shooting', 'Tennis', 'Weightlifting',\n",
       "       'Wrestling Gre-R', 'Water polo', 'Archery', 'Basque Pelota',\n",
       "       'Cricket', 'Croquet', 'Jumping', 'Football', 'Golf', 'Rowing',\n",
       "       'Rugby', 'Sailing', 'Tug of War', 'Diving', 'Boxing', 'Lacrosse',\n",
       "       'Roque', 'Wrestling Free.', 'Hockey', 'Jeu de Paume', 'Polo',\n",
       "       'Rackets', 'Figure skating', 'Water Motorspor', 'Dressage',\n",
       "       'Eventing', 'Modern Pentath.', 'Vaulting', 'Ice Hockey',\n",
       "       'Basketball', 'Canoe / Kayak F', 'Handball', 'Judo', 'Volleyball',\n",
       "       'Canoe / Kayak S', 'Synchronized S.', 'Rhythmic G.',\n",
       "       'Table Tennis', 'Badminton', 'Baseball', 'Mountain Bike',\n",
       "       'Softball', 'Beach volley.', 'Trampoline', 'Taekwondo',\n",
       "       'Triathlon', 'BMX', 'Marathon swimming', 'Synchronized Swimming',\n",
       "       'Water Polo', 'Canoe Slalom', 'Canoe Sprint', 'Cycling BMX',\n",
       "       'Gymnastics Artistic', 'Gymnastics Rhythmic', 'Modern Pentathlon',\n",
       "       'Beach Volleyball', 'Wrestling Freestyle'], dtype=object)"
      ]
     },
     "execution_count": 35,
     "metadata": {},
     "output_type": "execute_result"
    }
   ],
   "source": [
    "summer_count_sports = summar_data_merged_df['Discipline'].unique()\n",
    "summer_count_sports"
   ]
  },
  {
   "cell_type": "code",
   "execution_count": null,
   "id": "a28bf92a",
   "metadata": {},
   "outputs": [
    {
     "data": {
      "text/plain": [
       "array(['Biathlon', 'Bobsleigh', 'Curling', 'Ice Hockey', 'Figure skating',\n",
       "       'Speed skating', 'Cross Country Skiing', 'Nordic Combined',\n",
       "       'Ski Jumping', 'Skeleton', 'Alpine Skiing', 'Luge',\n",
       "       'Short Track Speed Skating', 'Freestyle Skiing', 'Snowboard'],\n",
       "      dtype=object)"
      ]
     },
     "execution_count": 36,
     "metadata": {},
     "output_type": "execute_result"
    }
   ],
   "source": [
    "winter_count_sports = winter_data_merged_df['Discipline'].unique()\n",
    "winter_count_sports"
   ]
  },
  {
   "cell_type": "markdown",
   "id": "5fb54204",
   "metadata": {},
   "source": [
    "## Event\n"
   ]
  },
  {
   "cell_type": "code",
   "execution_count": 39,
   "id": "994ff235",
   "metadata": {},
   "outputs": [
    {
     "name": "stdout",
     "output_type": "stream",
     "text": [
      "Number of events: 666\n"
     ]
    },
    {
     "data": {
      "text/plain": [
       "array(['100M Freestyle', '100M Freestyle For Sailors', '1200M Freestyle',\n",
       "       '400M Freestyle', '100M', '110M Hurdles', '1500M', '400M', '800M',\n",
       "       'Discus Throw', 'High Jump', 'Long Jump', 'Marathon', 'Pole Vault',\n",
       "       'Shot Put', 'Triple Jump', 'Individual Road Race', '100KM', '10KM',\n",
       "       '12-Hour Race', '1KM Time Trial', 'Sprint Indivual',\n",
       "       'Foil Individual', 'Foil, Masters', 'Sabre Individual',\n",
       "       'Horizontal Bar', 'Parallel Bars', 'Pommel Horse', 'Rings',\n",
       "       'Rope Climbing', 'Team, Horizontal Bar', 'Team, Parallel Bars',\n",
       "       'Vault', '25M Army Pistol', '25M Rapid Fire Pistol (60 Shots)',\n",
       "       '50M Pistol (60 Shots)', 'Army Rifle, 200M', 'Army Rifle, 300M',\n",
       "       'Singles', 'Heavyweight - One Hand Lift',\n",
       "       'Heavyweight - Two Hand Lift', 'Open Event', '1500M Freestyle',\n",
       "       '200M Backstroke', '200M Freestyle', '200M Obstacle Event',\n",
       "       '200M Team Swimming', '4000M Freestyle', 'Underwater Swimming',\n",
       "       'Water Polo', 'Au Chapelet, 33M', 'Au Chapelet, 50M',\n",
       "       'Au Cordon Doré, 33M', 'Au Cordon Doré, 50M',\n",
       "       'Sur La Perche À La Herse', 'Sur La Perche À La Pyramide', '200M',\n",
       "       '200M Hurdles', '3000M Steeplechase', '4000M Steeplechase',\n",
       "       '400M Hurdles', '5000M Team', '60M', 'Hammer Throw',\n",
       "       'High Jump, Standing', 'Long Jump, Standing',\n",
       "       'Triple Jump, Standing', 'Cesta Punta', 'Cricket', 'Double',\n",
       "       'Individual 1 Ball', 'Individual 2 Balls', '25 Kilometres',\n",
       "       'Individual', 'Long Jump Individual', 'Épée Individual',\n",
       "       'Épée, Amateurs And Masters', 'Épée, Masters', 'Sabre, Masters',\n",
       "       'Football', 'Individual All-Round', 'Eight With Coxswain (8+)',\n",
       "       'Four-Oared Shell With Coxswain (4-)',\n",
       "       'Pair-Oared Shell With Coxswain (2+)', 'Single Sculls (1X)',\n",
       "       'Rugby', '0.5-1T', '10-20T', '3-10T', 'Open Class',\n",
       "       '50M Army Pistol, Team', 'Army Rifle, 300M, 3 Positions',\n",
       "       'Army Rifle, 300M, Kneeling', 'Army Rifle, 300M, Prone',\n",
       "       'Army Rifle, 300M, Standing', 'Free Rifle, Team',\n",
       "       'Trap (125 Targets)', 'Doubles', 'Mixed Doubles', 'Tug Of War',\n",
       "       '10M Platform', 'Plunge For Distance', '100M Backstroke',\n",
       "       '400M Breaststroke', '4X50Y Freestyle Relay',\n",
       "       '50Y Freestyle (45.72M)', '880Y Freestyle (804.66M)',\n",
       "       'Double American Round (60Y - 50Y - 40Y)',\n",
       "       'Double Columbia Round (50Y - 40Y - 30Y)',\n",
       "       'Double National Round (60Y - 50Y)',\n",
       "       'Double York Round (100Y - 80Y - 60Y)', 'Team Round 60Y',\n",
       "       'Teams Fita Round', '4Miles Team', '56LB Weight Throw (25.4KG)',\n",
       "       'Decathlon', 'Triathlon (Long Jump / Shot Put / 100 Yards)',\n",
       "       '- 47.63KG (Flyweight)', '+ 71.67KG (Heavyweight)',\n",
       "       '47.63 - 52.16KG (Bantamweight)', '52.16 - 56.7KG (Featherweight)',\n",
       "       '56.7 - 61.24KG (Lightweight)', '61.24 - 65.77KG (Welterweight)',\n",
       "       '65.77 - 71.67KG (Middleweight)', '1 Mile (1609.3M)',\n",
       "       '1/2 Mile (804.7M)', '1/3 Mile (536.5M)', '1/4 Mile (402.3M)',\n",
       "       '2 Miles (3.218KM)', '25 Miles (40.232KM)', '5 Miles (8.046KM)',\n",
       "       'Foil Team', 'Stick, Single', 'Team', 'Club Swinging',\n",
       "       'Combined 3 Events', 'Combined 4 Events', 'Team Competition',\n",
       "       'Lacrosse', 'Coxless Pair (2-)', 'Double Sculls (2X)',\n",
       "       'Four Without Coxswain (4-)', 'All-Around Dumbbell Contest',\n",
       "       '- 47.6KG (Light-Flyweight)', '47.6 - 52.16KG (Flyweight)',\n",
       "       '52.16 - 56.7KG (Bantamweight)', '56.7 - 61.23KG (Featherweight)',\n",
       "       '61.23 - 65.77KG (Lightweight)', '65.77 - 71.67KG (Welterweight)',\n",
       "       '3M Springboard', '200M Breaststroke', '4X200M Freestyle Relay',\n",
       "       'Continental Style 50M', 'National Round (60Y - 50Y)',\n",
       "       'York Round (100Y - 80Y - 60Y)', '10Miles Walk (16093M)',\n",
       "       '3200M Steeplechase', '3500M Walk', '3Miles Team (4828M)',\n",
       "       '4X400M Relay', '5 Miles (8047M)', 'Discus Throw Ancient Style',\n",
       "       'Javelin Throw', 'Javelin Throw Freestyle',\n",
       "       '- 52.62KG (Bantamweight)', '52.62 - 57.15KG (Featherweight)',\n",
       "       '57.15 - 63.5KG (Lightweight)', '63.5 - 71.67KG (Middleweight)',\n",
       "       '1980 Yards Pursuit, Team', '2000M Tandem', '20KM', '5000M',\n",
       "       'One Lap (660Y) Sprint', 'Épée Team', 'Sabre Team', 'Hockey',\n",
       "       'Polo', '12M', '6M', '7M', '8M', '1000Y Free Rifle, Prone',\n",
       "       '100M Running Deer, Double Shots',\n",
       "       '100M Running Deer, Single Shots',\n",
       "       '100M Running Deer, Single Shots, Team',\n",
       "       '25Y Small Bore Rifle, Disappearing Target',\n",
       "       '25Y Small Bore Rifle, Moving Target',\n",
       "       '300M Free Rifle 3 Positions (3X40 Shots)',\n",
       "       '50+100Y Small Bore Rifle, Team', '50M Rifle Prone (60 Shots)',\n",
       "       '50Y Army Pistol, Team', 'Clay Pigeons, Team', 'Rifle, Team',\n",
       "       'Pairs', 'Special Figures', 'Doubles Indoor', 'Singles Indoor',\n",
       "       '8M Class C', 'Class B Up To 60 Feet', 'Open Class A',\n",
       "       '- 54KG (Bantamweight)', '+ 73KG (Heavyweight)',\n",
       "       '54 - 60.3KG (Featherweight)', '60.3 - 66.6KG (Lightweight)',\n",
       "       '66.6 - 73KG (Middleweight)', '- 66.6KG (Lightweight)',\n",
       "       '+ 93KG (Super Heavyweight)', '73 - 93KG (Light-Heavyweight)',\n",
       "       'Plain High Diving', '4X100M Freestyle Relay', '10000M',\n",
       "       '10000M Walk', '3000M Team', '4X100M Relay',\n",
       "       'Cross Country Individual', 'Cross Country Team',\n",
       "       'Discus Throw, Both Hands', 'Javelin Throw, Both Hands',\n",
       "       'Pentathlon', 'Shot Put, Both Hands', 'Individual Time Trial',\n",
       "       'Team Time Trial', 'Team, Free System', 'Team, Swedish System',\n",
       "       'Individual Competition', 'Coxed Fours Jugriggers', '10M',\n",
       "       '25M Small Bore Rifle, Team', '25M Small Rifle',\n",
       "       '30M Army Pistol, Team', '50M Small Bore Rifle, Team',\n",
       "       '600M Free Rifle', 'Mixed Doubles Indoor',\n",
       "       '- 60KG (Featherweight)', '+ 82.5KG (Super Heavyweight)',\n",
       "       '60 - 67.5KG (Lightweight)', '67.5 - 75KG (Middleweight)',\n",
       "       '75 - 82.5KG (Light-Heavyweight)', 'Fixed Bird Target Large Birds',\n",
       "       'Fixed Bird Target Large Birds Teams',\n",
       "       'Fixed Bird Target Small Bird, Teams',\n",
       "       'Fixed Bird Target Small Birds', 'Moving Bird Target 28M Teams',\n",
       "       'Moving Bird Target 33M Teams', 'Moving Bird Target 50M Teams',\n",
       "       'Moving Bird Target, 28M', 'Moving Bird Target, 33M',\n",
       "       'Moving Bird Target, 50M', '3000M Walk', '- 50.8KG (Flyweight)',\n",
       "       '+ 79.38KG (Heavyweight)', '50.8 - 53.52KG (Bantamweight)',\n",
       "       '53.52 - 57.15KG (Featherweight)', '57.15 - 61.24KG (Lightweight)',\n",
       "       '61.24 - 66.68KG (Welterweight)', '66.68 - 72.57KG (Middleweight)',\n",
       "       '72.57 - 79.38KG (Light-Heavyweight)', '50KM',\n",
       "       'Team Pursuit (4000M)', 'Figure Riding Individual',\n",
       "       'Figure Riding Team', 'Ice Hockey', '10M (Rating 1907)',\n",
       "       '10M (Rating 1919)', '12 Foot Dinghy', '12M (Rating 1907)',\n",
       "       '12M (Rating 1919)', '18 Foot Dinghy', '30M Sq', '40M Sq',\n",
       "       '6.5M (Rating 1919)', '6M (Rating 1907)', '6M (Rating 1919)',\n",
       "       '8M (Rating 1907)', '8M (Rating 1919)',\n",
       "       '100M Running Deer, Double Shots, Team',\n",
       "       '300+600M Free Rifle, Team, Prone', '300M Free Rifle, Prone, Team',\n",
       "       '300M Free Rifle, Standing, Team',\n",
       "       '50M Small Bore Rifle, Standing, Individual',\n",
       "       '600M Free Rifle, Prone', '600M Free Rifle, Team',\n",
       "       '- 60KG, One-Two Hand 3 Events (Featherweight)',\n",
       "       '+ 82.5KG, One-Two Hand 3 Events (Heavyweight)',\n",
       "       '60 - 67.5KG, One-Two Hand 3 Events (Lightweight)',\n",
       "       '67.5 - 75KG, One-Two Hand 3 Events (Middleweight)',\n",
       "       '75 - 82.5KG, One-Two Hand 3 E. (Light-Heavyweight)',\n",
       "       '+ 80KG (Heavyweight)', '75 - 80KG (Light-Heavyweight)',\n",
       "       '+ 82KG (Super Heavyweight)', '75 - 82KG (Light-Heavyweight)',\n",
       "       'Sidehorse Vault', 'Olympic Class Monotype',\n",
       "       '400, 600, 800M Free Rifle, Team', '600M Free Rifle, Individual',\n",
       "       '- 60KG, One-Two Hand 5 Events (Featherweight)',\n",
       "       '+ 82.5KG, One-Two Hand 5 Events (Heavyweight)',\n",
       "       '60 - 67.5KG, One-Two Hand 5 Events (Lightweight)',\n",
       "       '67.5 - 75KG, One-Two Hand 5 Events (Middleweight)',\n",
       "       '75 - 82.5KG, One-Two Hand 5 E. (Light-Heavyweight)',\n",
       "       '- 56KG (Bantamweight)', '+ 87KG (Heavyweight)',\n",
       "       '56 - 61KG (Featherweight)', '61 - 66KG (Lightweight)',\n",
       "       '66 - 72KG (Welterweight)', '72 - 79KG (Middleweight)',\n",
       "       '79 - 87KG (Light-Heavyweight)', '- 58KG (Bantamweight)',\n",
       "       '58 - 62KG (Featherweight)', '62 - 67.5KG (Lightweight)',\n",
       "       '1KM Pursuit', '12 Foot Dinghy Individual',\n",
       "       '- 60KG, Total (Featherweight)', '+ 82.5KG, Total (Heavyweight)',\n",
       "       '60 - 67.5KG, Total (Lightweight)',\n",
       "       '67.5 - 75KG, Total (Middleweight)',\n",
       "       '75 - 82.5KG, Total (Light-Heavyweight)',\n",
       "       '58 - 60KG (Featherweight)', '50KM Walk', '80M Hurdles',\n",
       "       '50.8 - 54KG (Bantamweight)', '54 - 57.15KG (Featherweight)',\n",
       "       'Floor Exercises', 'Indian Clubs', 'Tumbling',\n",
       "       'Two-Person Keelboat Open (Star)', '+ 87KG (Super Heavyweight)',\n",
       "       'Basketball', 'C-1 1000M (Canoe Single)', 'C-2 10000M',\n",
       "       'C-2 1000M (Canoe Double)', 'Folding K-1 10000M',\n",
       "       'Folding K-2 10000M', 'K-1 10000M', 'K-1 1000M (Kayak Single)',\n",
       "       'K-2 10000M', 'K-2 1000M (Kayak Double)', 'Handball',\n",
       "       '- 51KG (Flyweight)', '51 - 54KG (Bantamweight)',\n",
       "       '54 - 58KG (Featherweight)', '58 - 62KG (Lightweight)',\n",
       "       '62 - 67KG (Welterweight)', '67 - 73KG (Middleweight)',\n",
       "       '73 - 80KG (Light-Heavyweight)', 'C-1 10000M',\n",
       "       'K-1 500M (Kayak Single)', 'Dragon', 'Firefly Class',\n",
       "       'Swallow (Golondrina)', '- 56KG, Total (Bantamweight)',\n",
       "       '56 - 60KG, Total (Featherweight)', '- 52KG (Flyweight)',\n",
       "       '52 - 57KG (Bantamweight)', '57 - 63KG (Featherweight)',\n",
       "       '63 - 67KG (Lightweight)', '67 - 73KG (Welterweight)',\n",
       "       '73 - 79KG (Middleweight)', '57 - 61KG (Featherweight)',\n",
       "       '61 - 67KG (Lightweight)', '+ 81KG (Heavyweight)',\n",
       "       '54 - 57KG (Featherweight)', '57 - 60KG (Lightweight)',\n",
       "       '60 - 63.5KG (Light-Welterweight)', '63.5 - 67KG (Welterweight)',\n",
       "       '67 - 71KG (Light-Middleweight)', '71-75KG',\n",
       "       '75 - 81KG (Light-Heavyweight)', 'Balance Beam',\n",
       "       'Team, Portable Apparatus', 'Uneven Bars', '5.5M',\n",
       "       'Single-Handed Dinghy (Finn)',\n",
       "       '100M Running Deer, Single/Double Shots',\n",
       "       '50M Rifle 3 Positions (3X40 Shots)',\n",
       "       '+ 90KG, Total (Heavyweight)',\n",
       "       '82.5 - 90KG, Total (Middle-Heavyweight)', '100M Butterfly',\n",
       "       '200M Butterfly', 'Sharpie 12M2', '4X100M Medley Relay',\n",
       "       '20KM Walk', 'K-1 4X500M', 'K-2 500M (Kayak Double)',\n",
       "       'Flying Dutchman', '400M Individual Medley', 'Individual Pursuit',\n",
       "       '- 68KG (Lightweight)', '68 - 80KG (Middleweight)',\n",
       "       'Open Category', 'Volleyball', '+ 97KG (Heavyweight)',\n",
       "       '63 - 70KG (Lightweight)', '70 - 78KG (Welterweight)',\n",
       "       '78 - 87KG (Middleweight)', '87 - 97KG (Light-Heavyweight)',\n",
       "       '+ 97KG (Super Heavyweight)', '100M Breaststroke',\n",
       "       '200M Individual Medley', '800M Freestyle',\n",
       "       '- 48KG (Light-Flyweight)', '48 - 51KG (Flyweight)',\n",
       "       'K-4 1000M (Kayak Four)', 'Skeet (125 Targets)',\n",
       "       'Individual Fita Round', 'C-1 (Canoe Single)',\n",
       "       'C-2 (Canoe Double)', 'K-1 (Kayak Single)', '- 63KG (Lightweight)',\n",
       "       '+ 93KG (Heavyweight)', '63 - 70KG (Half-Middleweight)',\n",
       "       '70 - 80KG (Middleweight)', '80 - 93KG (Half-Heavyweight)',\n",
       "       'Fleet/Match Race Keelboat Open (Soling)', 'Tempest',\n",
       "       '50M Running Target (30+30 Shots)', '- 52KG, Total (Flyweight)',\n",
       "       '52 - 56KG, Total (Bantamweight)',\n",
       "       '91 - 110KG, Total (Heavyweight)', '+ 100KG (Super Heavyweight)',\n",
       "       '48 - 52KG (Flyweight)', '57 - 62KG (Featherweight)',\n",
       "       '62 - 68KG (Lightweight)', '68 - 74KG (Welterweight)',\n",
       "       '74 - 82KG (Middleweight)', '82 - 90KG (Light-Heavyweight)',\n",
       "       '90 - 100KG (Heavyweight)', 'C-1 500M (Canoe Single)',\n",
       "       'C-2 500M (Canoe Double)', 'Pair Without Coxswain (2-)',\n",
       "       '470 - Two Person Dinghy', 'Tornado - Multihull', '100M Hurdles',\n",
       "       '- 60 KG', '+ 95KG (Heavyweight)', '60 - 65KG (Half-Lightweight)',\n",
       "       '65 - 71KG (Lightweight)', '71 - 78KG (Half-Middleweight)',\n",
       "       '78 - 86KG (Middleweight)', '86 - 95KG (Half-Heavyweight)',\n",
       "       'Quadruple Sculls With Coxswain (4X)',\n",
       "       'Quadruple Sculls Without Coxswain (4X)',\n",
       "       '+ 110KG, Total (Super Heavyweight)',\n",
       "       '100 - 110KG, Total (Heavyweight)',\n",
       "       '90 - 100KG, Total (First-Heavyweight)', 'Duet', 'Solo', '3000M',\n",
       "       'Heptathlon', '+ 91KG (Super Heavyweight)',\n",
       "       '81 - 91KG (Heavyweight)', 'K-4 500M (Kayak Four)', 'Points Race',\n",
       "       'Board (Windglider)', '10M Air Rifle (40 Shots)',\n",
       "       '10M Air Rifle (60 Shots)', '25M Pistol (30+30 Shots)',\n",
       "       '50M Rifle 3 Positions (3X20 Shots)', '50M Freestyle', 'Sprint',\n",
       "       'Board (Division Ii)', '10M Air Pistol (60 Shots)',\n",
       "       '100 - 130KG (Super Heavyweight)',\n",
       "       'Individual (Fita Olympic Round - 70M)',\n",
       "       'Team (Fita Olympic Round - 70M)', 'Baseball',\n",
       "       '- 48KG (Extra-Lightweight)', '+ 72KG (Heavyweight)',\n",
       "       '48 - 52KG (Half-Lightweight)', '52 - 56KG (Lightweight)',\n",
       "       '56 - 61KG (Half-Middleweight)', '61 - 66KG (Middleweight)',\n",
       "       '66 - 72KG (Half-Heavyweight)', 'Coxless Four (4-)',\n",
       "       'Board (Lechner)', 'Single-Handed Dinghy (Europe)',\n",
       "       '10M Air Pistol (40 Shots)', 'Cross-Country', 'Group Competition',\n",
       "       '+ 100KG (Heavyweight)', '60 - 66KG (Half-Lightweight)',\n",
       "       '66 - 73KG (Lightweight)', '73 - 81KG (Half-Middleweight)',\n",
       "       '81 - 90KG (Middleweight)', '90 - 100KG (Half-Heavyweight)',\n",
       "       'Lightweight Coxless Four (4-)', 'Lightweight Double Sculls (2X)',\n",
       "       'Board (Mistral)', 'Single-Handed Dinghy Open (Laser)',\n",
       "       'Double Trap (120 Targets)', 'Double Trap (150 Targets)',\n",
       "       'Softball', 'Beach Volleyball', '- 54KG, Total (Flyweight)',\n",
       "       '+ 108KG, Total (Super Heavyweight)',\n",
       "       '54 - 59KG, Total (Bantamweight)',\n",
       "       '59 - 64KG, Total (Featherweight)',\n",
       "       '64 - 70KG, Total (Lightweight)',\n",
       "       '70 - 76KG, Total (Middleweight)',\n",
       "       '76 - 83KG, Total (Light-Heavyweight)',\n",
       "       '83 - 91KG, Total (Middle-Heavyweight)',\n",
       "       '91 - 99KG, Total (First-Heavyweight)',\n",
       "       '99 - 108KG, Total (Heavyweight)',\n",
       "       'Synchronized Diving 10M Platform',\n",
       "       'Synchronized Diving 3M Springboard', '20KM Race Walk',\n",
       "       '500M Time Trial', 'Keirin', 'Madison', 'Olympic Sprint',\n",
       "       '+ 78KG (Heavyweight)', '52 - 57KG (Lightweight)',\n",
       "       '57 - 63KG (Half-Middleweight)', '63 - 70KG (Middleweight)',\n",
       "       '70 - 78KG (Half-Heavyweight)', '49Er - Skiff',\n",
       "       '10M Running Target (30+30 Shots)', 'Skeet (75 Targets)',\n",
       "       'Trap (75 Targets)', '- 49 KG', '- 58 KG', '+ 67 KG', '+ 80 KG',\n",
       "       '49 - 57 KG', '57 - 67 KG', '58 - 68 KG', '68 - 80 KG', '+ 105KG',\n",
       "       '+ 75KG', '105KG', '48KG', '53KG', '56KG', '58KG', '62KG', '63KG',\n",
       "       '69KG', '75KG', '77KG', '85KG', '94KG', '48 - 54KG', '54 - 58KG',\n",
       "       '58 - 63KG', '63 - 69KG', '69 - 76KG', '76 - 85KG', '85 - 97KG',\n",
       "       '97 - 130KG', '48KG (Light Flywieght)', '60 - 64 KG', '64 - 69 KG',\n",
       "       '69 - 75 KG', 'Team Sprint', '- 48 KG', 'Star - Keelboat',\n",
       "       'Yngling - Keelboat', '- 48KG', '- 55KG', '48 - 55KG', '55 - 60KG',\n",
       "       '55 - 63KG', '60 - 66KG', '63 - 72KG', '66 - 74KG', '74 - 84KG',\n",
       "       '84 - 96KG', '96 - 120KG', 'Marathon 10KM',\n",
       "       'Finn - Heavyweight Dinghy', 'Laser - One Person Dinghy',\n",
       "       'Laser Radial - One Person Dinghy', 'Rs:X - Windsurfer',\n",
       "       'Synchronized 10M', 'Synchronized 3M', '200M Medley',\n",
       "       '400M Medley', '4X100M Freestyle', '4X100M Medley',\n",
       "       '4X200M Freestyle', '3000M Steeple', '+ 91KG', '46 - 49KG',\n",
       "       '51 KG', '52KG', '57 - 60KG', '60 KG', '75 - 81KG', '75 KG',\n",
       "       '81 - 91KG', 'C-1 (Single)', 'C-2 (Double)', 'K-1 (Single)',\n",
       "       'C-1 1000M', 'C-1 200M', 'C-2 1000M', 'K-1 1000M', 'K-1 200M',\n",
       "       'K-1 500M', 'K-2 1000M', 'K-2 200M', 'K-2 500M', 'K-4 1000M',\n",
       "       'K-4 500M', 'Individual Road', 'Time Trial', 'Omnium',\n",
       "       'Team Pursuit', 'Beam', 'Individual All-Around', '+ 100KG',\n",
       "       '+ 78KG', '48 - 52KG', '52 - 57KG', '57 - 63KG', '63 - 70KG',\n",
       "       '66 - 73KG', '70 - 78KG', '73 - 81KG', '81 - 90KG', '90 - 100KG',\n",
       "       'Coxless Four', 'Coxless Pair 2-', 'Double Sculls',\n",
       "       'Eight With Coxswain', 'Lightweight 4', 'Lightweight Doubles',\n",
       "       'Quadruple Sculls', 'Single Sculls', '470', 'Elliott 6M', 'Finn',\n",
       "       'Laser', 'Laser Radial', 'Rs:X', 'Star', '10M Air Pistol',\n",
       "       '10M Air Rifle', '25M Pistol', '25M Rapid Pistol', '50M Pistol',\n",
       "       '50M Rifle 3 Positions', '50M Rifle Prone', 'Double Trap 150',\n",
       "       'Skeet', 'Trap', '+105KG', '+75KG', '-56KG', 'Wf 120KG',\n",
       "       'Wf 48 KG', 'Wf 55 KG', 'Wf 60 KG', 'Wf 63 KG', 'Wf 66 KG',\n",
       "       'Wf 72 KG', 'Wf 74 KG', 'Wf 84 KG', 'Wf 96 KG', 'Wg 120 KG',\n",
       "       'Wg 55 KG', 'Wg 60 KG', 'Wg 66 KG', 'Wg 74 KG', 'Wg 84 KG',\n",
       "       'Wg 96 KG'], dtype=object)"
      ]
     },
     "execution_count": 39,
     "metadata": {},
     "output_type": "execute_result"
    }
   ],
   "source": [
    "summer_count_events = summar_data_merged_df['Event'].unique()\n",
    "print(f\"Number of events: {len(summer_count_events)}\")\n",
    "summer_count_sports"
   ]
  },
  {
   "cell_type": "code",
   "execution_count": null,
   "id": "eec96bcd",
   "metadata": {},
   "outputs": [],
   "source": [
    "winter_count_sports = winter_data_merged_df['Discipline'].unique()\n",
    "winter_count_sports"
   ]
  },
  {
   "cell_type": "code",
   "execution_count": null,
   "id": "fbe531da",
   "metadata": {},
   "outputs": [],
   "source": [
    "# medal_data = summar_data_merged_df.groupby(['Country_y','Medal']).size().unstack(fill_value=0).reset_index()\n",
    "# medal_data"
   ]
  },
  {
   "cell_type": "code",
   "execution_count": null,
   "id": "51f9da1a",
   "metadata": {},
   "outputs": [],
   "source": [
    "# import statsmodels.api as sm\n",
    "\n",
    "# dta = sm.datasets.sunspots.load_pandas().data\n",
    "# dta.index = pd.Index(sm.tsa.datetools.dates_from_range(\"1700\", \"2008\"))\n",
    "# dta.index.freq = dta.index.inferred_freq\n",
    "# del dta[\"YEAR\"]\n",
    "\n",
    "# dta"
   ]
  },
  {
   "cell_type": "code",
   "execution_count": null,
   "id": "9db85490",
   "metadata": {},
   "outputs": [],
   "source": [
    "\n",
    "\n",
    "# # Example data for Bronze Medals\n",
    "# time_series_bronze = pd.DataFrame({\n",
    "#     'Year': [1896, 1900, 1904, 1908, 1912, 1920, 1924, 1928, 1932, 1936, 1948, 1952, 1956, 1960, 1964, 1968, 1972, 1976, 1980, 1984, 1988, 1992, 1996, 2000, 2004, 2008, 2012],\n",
    "#     'Bronze_Medals': [1, 2, 3, 4, 2, 5, 4, 3, 6, 2, 3, 6, 4, 5, 6, 7, 8, 5, 9, 8, 10, 12, 14, 18, 20, 25, 30]\n",
    "# })\n",
    "\n",
    "# # Set the Year as the index\n",
    "# time_series_bronze.set_index('Year', inplace=True)\n",
    "\n",
    "# # If the index is not DateTime, convert it into a DateTime index\n",
    "# dta = time_series_bronze\n",
    "# dta.index = pd.to_datetime(dta.index, format='%Y')\n",
    "\n",
    "# arma_mod30 = ARIMA(dta, order=(3, 0, 0)).fit()\n",
    "\n",
    "# # Print the summary of the model\n",
    "# print(arma_mod30.summary())\n",
    "\n",
    "# # Plot the observed vs the predicted values\n",
    "# plt.figure(figsize=(10, 6))\n",
    "# plt.plot(dta.index, dta['Bronze_Medals'], label='Observed', color='blue')\n",
    "# plt.plot(dta.index, arma_mod30.fittedvalues, label='Fitted', color='red')\n",
    "# plt.title('Bronze Medals: Observed vs Fitted')\n",
    "# plt.xlabel('Year')\n",
    "# plt.ylabel('Number of Medals')\n",
    "# plt.legend()\n",
    "# plt.show()\n",
    "\n",
    "# # Forecast future values (for example, next 5 periods)\n",
    "# forecast = arma_mod30.forecast(steps=5)\n",
    "# print(f\"Forecasted Bronze Medals for next 5 years: {forecast}\")"
   ]
  },
  {
   "cell_type": "code",
   "execution_count": null,
   "id": "dc6355b3",
   "metadata": {},
   "outputs": [],
   "source": [
    "def take_prediction(time_series_bronze=None):\n",
    "    # Set the Year as the index without modifying the original DataFrame\n",
    "    time_series_bronze = time_series_bronze.set_index('Year')\n",
    "\n",
    "    # Ensure the index is DateTime\n",
    "    dta = time_series_bronze\n",
    "    dta.index = pd.to_datetime(dta.index, format='%Y')\n",
    "\n",
    "    # Split the data into train and test sets (80% training, 20% testing)\n",
    "    train_size = int(len(dta) * 0.8)\n",
    "    train, test = dta[:train_size], dta[train_size:]\n",
    "\n",
    "    # Fit the ARIMA model on the training data\n",
    "    arma_mod30 = ARIMA(train, order=(3, 0, 0)).fit()\n",
    "\n",
    "    # Forecast future values (matching the length of the test set)\n",
    "    forecast = arma_mod30.forecast(steps=len(test))\n",
    "\n",
    "    # Create a DataFrame for the forecasted values\n",
    "    # forecast_df = pd.DataFrame(forecast, index=test.index, columns=['Forecasted_Bronze_Medals'])\n",
    "    forecast_df = pd.DataFrame(forecast.values, index=test.index, columns=[\n",
    "                               'Forecasted_Bronze_Medals'])\n",
    "\n",
    "    # Optionally print for debugging\n",
    "    # print(f\"Forecast:\\n{forecast}\")\n",
    "    # print(f\"Forecast DataFrame:\\n{forecast_df}\")\n",
    "\n",
    "    # Return the relevant outputs\n",
    "    return train, test, arma_mod30, forecast, forecast_df, dta"
   ]
  },
  {
   "cell_type": "code",
   "execution_count": null,
   "id": "59fba6ce",
   "metadata": {},
   "outputs": [],
   "source": [
    "medal_data"
   ]
  },
  {
   "cell_type": "code",
   "execution_count": null,
   "id": "a43fbcb7",
   "metadata": {},
   "outputs": [],
   "source": [
    "import pandas as pd\n",
    "import matplotlib.pyplot as plt\n",
    "from statsmodels.tsa.arima.model import ARIMA\n",
    "\n",
    "# Group by 'Country_y'\n",
    "medal_data = summar_data_merged_df.groupby(['Country_y'])\n",
    "\n",
    "for index_name, group_name in medal_data:\n",
    "    if group_name['Code'].values[0] == 'USA':\n",
    "        # Extract relevant columns\n",
    "        extracted_feature_df = group_name[[\n",
    "            'Year', 'Code', 'Population', 'GDP per Capita', 'Medal']]\n",
    "\n",
    "        # Create a time series for each medal type\n",
    "        extracted_feature_df_gold = extracted_feature_df[extracted_feature_df['Medal'] == 'Gold']\n",
    "        extracted_feature_df_silver = extracted_feature_df[extracted_feature_df['Medal'] == 'Silver']\n",
    "        extracted_feature_df_bronze = extracted_feature_df[extracted_feature_df['Medal'] == 'Bronze']\n",
    "\n",
    "        # Count the number of medals per year for each medal type\n",
    "        time_series_gold = extracted_feature_df_gold.groupby(\n",
    "            'Year').size().reset_index(name='Gold_Medals')\n",
    "        time_series_silver = extracted_feature_df_silver.groupby(\n",
    "            'Year').size().reset_index(name='Silver_Medals')\n",
    "        time_series_bronze = extracted_feature_df_bronze.groupby(\n",
    "            'Year').size().reset_index(name='Bronze_Medals')\n",
    "\n",
    "        print(\"extracted_feature_df_gold : \", extracted_feature_df_gold.shape)\n",
    "        print(\"extracted_feature_df_silver : \",\n",
    "              extracted_feature_df_silver.shape)\n",
    "        print(\"extracted_feature_df_bronze : \",\n",
    "              extracted_feature_df_bronze.shape)\n",
    "\n",
    "        # Call the prediction function for each medal type\n",
    "        train_gold, test_gold, arma_mod30_gold, forecast_gold, forecast_df_gold, dta_gold = take_prediction(\n",
    "            time_series_bronze=time_series_gold)\n",
    "        train_silver, test_silver, arma_mod30_silver, forecast_silver, forecast_df_silver, dta_silver = take_prediction(\n",
    "            time_series_bronze=time_series_silver)\n",
    "        train_bronze, test_bronze, arma_mod30_bronze, forecast_bronze, forecast_df_bronze, dta_bronze = take_prediction(\n",
    "            time_series_bronze=time_series_bronze)\n",
    "\n",
    "        print(\"Lenght of training data of Gold Medal : \", train_gold.shape)\n",
    "        print(\"Lenght of training data of Silver Medal : \", train_silver.shape)\n",
    "        print(\"Lenght of training data of Bronze Medal : \", train_bronze.shape)\n",
    "\n",
    "        print(\"-------------------------------------------------------------\")\n",
    "\n",
    "        print(\"Lenght of training data of Gold Medal : \", test_gold.shape)\n",
    "        print(\"Lenght of training data of Silver Medal : \", test_silver.shape)\n",
    "        print(\"Lenght of training data of Bronze Medal : \", test_bronze.shape)\n",
    "\n",
    "        general_train = train_gold.copy()\n",
    "        general_train['Total_Medals'] = train_gold['Gold_Medals'] + \\\n",
    "            train_silver['Silver_Medals'] + train_bronze['Bronze_Medals']\n",
    "\n",
    "        general_test = test_gold.copy()\n",
    "        general_test['Total_Medals'] = test_gold['Gold_Medals'] + \\\n",
    "            test_silver['Silver_Medals'] + test_bronze['Bronze_Medals']\n",
    "\n",
    "        general_forecast = forecast_df_gold.copy()\n",
    "        general_forecast['Total_Medals'] = (forecast_df_gold['Forecasted_Bronze_Medals'] +\n",
    "                                            forecast_df_silver['Forecasted_Bronze_Medals'] +\n",
    "                                            forecast_df_bronze['Forecasted_Bronze_Medals'])\n",
    "\n",
    "        # Create subplots to visualize all three medal types and the general trend\n",
    "        # Create a figure and GridSpec layout\n",
    "        fig = plt.figure(figsize=(30, 20))\n",
    "        gs = gridspec.GridSpec(2, 3, figure=fig)\n",
    "\n",
    "        # Define subplots\n",
    "        ax1 = fig.add_subplot(gs[0, 0])  # First row, first column\n",
    "        ax2 = fig.add_subplot(gs[0, 1])  # First row, second column\n",
    "        ax3 = fig.add_subplot(gs[0, 2])  # First row, third column\n",
    "        ax4 = fig.add_subplot(gs[1, :])  # Second row, spans all columns\n",
    "\n",
    "        # Plot Gold Medals\n",
    "        ax1.plot(train_gold.index, train_gold['Gold_Medals'],\n",
    "                 label='Train Data', color='blue', marker='o')\n",
    "        ax1.plot(test_gold.index, test_gold['Gold_Medals'],\n",
    "                 label='Test Data', color='green', marker='o')\n",
    "        ax1.plot(forecast_df_gold.index, forecast_df_gold.reset_index()[\n",
    "                 'Forecasted_Bronze_Medals'], label='Forecasted', color='orange', marker='o')\n",
    "        ax1.set_title('Gold Medals: Observed vs Forecasted')\n",
    "        ax1.set_xticklabels(dta_gold.index, rotation=45)\n",
    "        ax1.set_xlabel('Year')\n",
    "        ax1.set_ylabel('Number of Medals')\n",
    "        ax1.legend()\n",
    "\n",
    "        # Plot Silver Medals\n",
    "        ax2.plot(train_silver.index,\n",
    "                 train_silver['Silver_Medals'], label='Train Data', color='blue', marker='o')\n",
    "        ax2.plot(test_silver.index, test_silver['Silver_Medals'],\n",
    "                 label='Test Data', color='green', marker='o')\n",
    "        ax2.plot(forecast_df_silver.index, forecast_df_silver.reset_index()[\n",
    "                 'Forecasted_Bronze_Medals'], label='Forecasted', color='orange', marker='o')\n",
    "        ax2.set_title('Silver Medals: Observed vs Forecasted')\n",
    "        ax2.set_xticklabels(dta_silver.index, rotation=45)\n",
    "        ax2.set_xlabel('Year')\n",
    "        ax2.set_ylabel('Number of Medals')\n",
    "        ax2.legend()\n",
    "\n",
    "        # Plot Bronze Medals\n",
    "        ax3.plot(train_bronze.index,\n",
    "                 train_bronze['Bronze_Medals'], label='Train Data', color='blue', marker='o')\n",
    "        ax3.plot(test_bronze.index, test_bronze['Bronze_Medals'],\n",
    "                 label='Test Data', color='green', marker='o')\n",
    "        ax3.plot(forecast_df_bronze.index, forecast_df_bronze.reset_index()[\n",
    "                 'Forecasted_Bronze_Medals'], label='Forecasted', color='orange', marker='o')\n",
    "        ax3.set_title('Bronze Medals: Observed vs Forecasted')\n",
    "        ax3.set_xticklabels(dta_bronze.index, rotation=45)\n",
    "        ax3.set_xlabel('Year')\n",
    "        ax3.set_ylabel('Number of Medals')\n",
    "        ax3.legend()\n",
    "\n",
    "        # General Trend Plot\n",
    "        ax4.plot(general_train.index, general_train.reset_index()[\n",
    "                 'Total_Medals'], label='Train Medals Count', color='gold', marker='o')\n",
    "        ax4.plot(general_test.index, general_test.reset_index()[\n",
    "                 'Total_Medals'], label='Test Medal Count', color='silver', marker='o')\n",
    "        ax4.plot(general_forecast.index, general_forecast.reset_index()[\n",
    "                 'Total_Medals'], label='Forecasted Medal Count', color='brown', marker='o')\n",
    "        ax4.set_title('General Trend: Total Medals')\n",
    "        ax4.set_xlabel('Year')\n",
    "        ax4.set_ylabel('Number of Medals')\n",
    "        ax4.legend()\n",
    "\n",
    "        plt.tight_layout()\n",
    "        plt.show()\n",
    "\n",
    "        # break"
   ]
  },
  {
   "cell_type": "code",
   "execution_count": null,
   "id": "af648b63",
   "metadata": {},
   "outputs": [],
   "source": [
    "# Calculate the General Trend"
   ]
  },
  {
   "cell_type": "code",
   "execution_count": null,
   "id": "47aa76b8",
   "metadata": {},
   "outputs": [],
   "source": [
    "general_forecast"
   ]
  },
  {
   "cell_type": "code",
   "execution_count": null,
   "id": "254a428e",
   "metadata": {},
   "outputs": [],
   "source": [
    "general_forecast.reset_index()['Total_Medals']"
   ]
  },
  {
   "cell_type": "code",
   "execution_count": null,
   "id": "912c18dc",
   "metadata": {},
   "outputs": [],
   "source": [
    "general_test"
   ]
  },
  {
   "cell_type": "code",
   "execution_count": null,
   "id": "6af773d6",
   "metadata": {},
   "outputs": [],
   "source": [
    "general_forecast"
   ]
  },
  {
   "cell_type": "code",
   "execution_count": null,
   "id": "775c9ce1",
   "metadata": {},
   "outputs": [],
   "source": [
    "print(time_series_silver.shape)\n",
    "print(time_series_gold.shape)\n",
    "print(time_series_bronze.shape)"
   ]
  },
  {
   "cell_type": "code",
   "execution_count": null,
   "id": "63076657",
   "metadata": {},
   "outputs": [],
   "source": [
    "print(\"Lenght of training data of Gold Medal : \", train_gold.shape)\n",
    "print(\"Lenght of training data of Silver Medal : \", train_silver.shape)\n",
    "print(\"Lenght of training data of Bronze Medal : \", train_bronze.shape)\n",
    "\n",
    "print(\"-------------------------------------------------------------\")\n",
    "\n",
    "print(\"Lenght of training data of Gold Medal : \", test_gold.shape)\n",
    "print(\"Lenght of training data of Silver Medal : \", test_silver.shape)\n",
    "print(\"Lenght of training data of Bronze Medal : \", test_bronze.shape)"
   ]
  },
  {
   "cell_type": "code",
   "execution_count": null,
   "id": "e98981a3",
   "metadata": {},
   "outputs": [],
   "source": [
    "extracted_feature_df_silver"
   ]
  },
  {
   "cell_type": "code",
   "execution_count": null,
   "id": "577dd89d",
   "metadata": {},
   "outputs": [],
   "source": [
    "extracted_feature_df_gold"
   ]
  },
  {
   "cell_type": "code",
   "execution_count": null,
   "id": "9fed4df8",
   "metadata": {},
   "outputs": [],
   "source": [
    "extracted_feature_df_bronze"
   ]
  },
  {
   "cell_type": "code",
   "execution_count": null,
   "id": "7192f1b4",
   "metadata": {},
   "outputs": [],
   "source": [
    "forecast_df_bronze.reset_index()"
   ]
  },
  {
   "cell_type": "code",
   "execution_count": null,
   "id": "870e96c9",
   "metadata": {},
   "outputs": [],
   "source": [
    "forecast_df_silver"
   ]
  },
  {
   "cell_type": "code",
   "execution_count": null,
   "id": "e41e3c83",
   "metadata": {},
   "outputs": [],
   "source": [
    "forecast_df"
   ]
  },
  {
   "cell_type": "code",
   "execution_count": null,
   "id": "bd23e3e0",
   "metadata": {},
   "outputs": [],
   "source": [
    "extracted_feature_df"
   ]
  },
  {
   "cell_type": "code",
   "execution_count": null,
   "id": "64aab7bb",
   "metadata": {},
   "outputs": [],
   "source": [
    "extracted_feature_df['Medal'].value_counts()"
   ]
  },
  {
   "cell_type": "code",
   "execution_count": null,
   "id": "67aee284-66c7-47ee-996c-95871ea0b19a",
   "metadata": {},
   "outputs": [],
   "source": [
    "medal_data = summar_data_merged_df.groupby(\n",
    "    ['Year', 'Country_y', 'Medal']).size().unstack(fill_value=0).reset_index()\n",
    "medal_data['Total_Medals'] = medal_data['Gold'] + \\\n",
    "    medal_data['Silver'] + medal_data['Bronze']\n",
    "\n",
    "\n",
    "counteries_grouped_medal = medal_data.groupby(\n",
    "    ['Year', 'Country_y']).size().reset_index()\n",
    "counteries_grouped_medal"
   ]
  },
  {
   "cell_type": "code",
   "execution_count": null,
   "id": "64195664-520c-429d-8107-7198d556f59d",
   "metadata": {},
   "outputs": [],
   "source": [
    "gdp_population_data = summar_data_merged_df[[\n",
    "    'Year', 'Country_y', 'GDP per Capita', 'Population']].drop_duplicates()\n",
    "medal_data = pd.merge(medal_data, gdp_population_data, on=[\n",
    "                      'Year', 'Country_y'], how='left')"
   ]
  },
  {
   "cell_type": "code",
   "execution_count": null,
   "id": "ea6c25d0-5b55-4ecf-aad0-ecce195b58c6",
   "metadata": {},
   "outputs": [],
   "source": [
    "medal_data"
   ]
  },
  {
   "cell_type": "code",
   "execution_count": null,
   "id": "8e665801-bb8e-4a2f-a9c6-b12bec384b39",
   "metadata": {},
   "outputs": [],
   "source": [
    "medal_data['GDP per Capita'].fillna(\n",
    "    medal_data['GDP per Capita'].mean(), inplace=True)\n",
    "medal_data['Population'].fillna(medal_data['Population'].mean(), inplace=True)"
   ]
  },
  {
   "cell_type": "code",
   "execution_count": null,
   "id": "8d2a35b1-b01d-4060-855e-5cffbe96fc2e",
   "metadata": {},
   "outputs": [],
   "source": [
    "medal_data"
   ]
  },
  {
   "cell_type": "code",
   "execution_count": null,
   "id": "00f6405a-0dc2-4074-b2e9-02e7d6a99bef",
   "metadata": {},
   "outputs": [],
   "source": [
    "from prophet import Prophet\n",
    "\n",
    "# Prepare data for Prophet\n",
    "country_data = medal_data[medal_data['Country_y'] == 'Australia']\n",
    "country_data = country_data[[\n",
    "    'Year', 'Total_Medals', \"GDP per Capita\", \"Population\"]]\n",
    "country_data.rename(columns={'Year': 'ds', 'Total_Medals': 'y'}, inplace=True)\n",
    "\n",
    "model = Prophet()\n",
    "model.add_regressor('GDP per Capita')\n",
    "model.add_regressor('Population')\n",
    "model.fit(country_data)"
   ]
  },
  {
   "cell_type": "code",
   "execution_count": null,
   "id": "b7be2f91-4bf2-4afb-843e-bd2dd7ad998c",
   "metadata": {},
   "outputs": [],
   "source": [
    "future"
   ]
  },
  {
   "cell_type": "code",
   "execution_count": null,
   "id": "884b7007-0509-49ce-8880-26991152e8d2",
   "metadata": {},
   "outputs": [],
   "source": [
    "future.shape[0]"
   ]
  },
  {
   "cell_type": "code",
   "execution_count": null,
   "id": "f077963b-e499-4a44-9216-b26d5e1a9aa9",
   "metadata": {},
   "outputs": [],
   "source": [
    "# Make future predictions\n",
    "# Predict for the next 4 Olympic cycles\n",
    "future = model.make_future_dataframe(periods=1, freq='Y')\n",
    "# Replace with appropriate values or forecasts\n",
    "future['GDP per Capita'] = np.linspace(500, 5000, future.shape[0])\n",
    "# Replace with appropriate values\n",
    "future['Population'] = np.linspace(50, 1000, future.shape[0])\n",
    "forecast = model.predict(future)"
   ]
  },
  {
   "cell_type": "code",
   "execution_count": null,
   "id": "bb28ed40-d925-4958-b09f-ea777563fa7c",
   "metadata": {},
   "outputs": [],
   "source": [
    "forecast[['ds', 'yhat', 'yhat_lower', 'yhat_upper']].tail()"
   ]
  },
  {
   "cell_type": "code",
   "execution_count": null,
   "id": "f70581ff-2efc-4803-b5a3-8d991415e674",
   "metadata": {},
   "outputs": [],
   "source": [
    "fig1 = model.plot(forecast)\n",
    "fig2 = model.plot_components(forecast)"
   ]
  },
  {
   "cell_type": "code",
   "execution_count": null,
   "id": "b561c335-c845-442c-98fa-4886236aa3a0",
   "metadata": {},
   "outputs": [],
   "source": [
    "import matplotlib.pyplot as plt\n",
    "\n",
    "countries = ['Australia',]\n",
    "for country in countries:\n",
    "    country_data = medal_data[medal_data['Country_y'] == country]\n",
    "    plt.plot(country_data['Year'],\n",
    "             country_data['Total_Medals'], label=country, marker='o')\n",
    "\n",
    "plt.title('Medal Trends by Country')\n",
    "plt.xlabel('Year')\n",
    "plt.ylabel('Total Medals')\n",
    "plt.legend()\n",
    "plt.show()"
   ]
  },
  {
   "cell_type": "code",
   "execution_count": null,
   "id": "7d7405f1-6901-4727-b2b1-c76fc0337195",
   "metadata": {},
   "outputs": [],
   "source": [
    "medal_counts = medal_data[medal_data['Country_y'] ==\n",
    "                          'Australia'][['Year', 'Gold', 'Silver', 'Bronze']]\n",
    "\n",
    "medal_counts.plot(x='Year', kind='bar', stacked=True, figsize=(10, 6))\n",
    "plt.title('Medal Distribution by Category - USA')\n",
    "plt.xlabel('Year')\n",
    "plt.ylabel('Count')\n",
    "plt.show()"
   ]
  },
  {
   "cell_type": "code",
   "execution_count": null,
   "id": "cf3bc8fb-ad38-4c32-b7fb-9b55fd6ee126",
   "metadata": {},
   "outputs": [],
   "source": [
    "country_data"
   ]
  },
  {
   "cell_type": "code",
   "execution_count": null,
   "id": "1ae2a61c-7600-4103-bcd3-0bfb4c933b2d",
   "metadata": {},
   "outputs": [],
   "source": [
    "from matplotlib import pyplot as plt\n",
    "\n",
    "plt.plot(country_data['ds'], country_data['y'], label='Actual')\n",
    "plt.plot(forecast['ds'], forecast['yhat'], label='Forecast')\n",
    "plt.fill_between(\n",
    "    forecast['ds'], forecast['yhat_lower'], forecast['yhat_upper'], alpha=0.2, label='Confidence Interval'\n",
    ")\n",
    "plt.title('Forecast of Medal Trends for USA')\n",
    "plt.xlabel('Year')\n",
    "plt.ylabel('Total Medals')\n",
    "plt.legend()\n",
    "plt.show()"
   ]
  },
  {
   "cell_type": "code",
   "execution_count": null,
   "id": "1e6e71e1-bb7d-4f5f-92f5-42235a7c825c",
   "metadata": {},
   "outputs": [],
   "source": [
    "len(list(summar_data_merged_df['City'].unique()))"
   ]
  },
  {
   "cell_type": "code",
   "execution_count": null,
   "id": "f9c7c1aa-f2bf-4b89-ab38-2ba1a74979af",
   "metadata": {},
   "outputs": [],
   "source": [
    "# !pip install prophet"
   ]
  },
  {
   "cell_type": "code",
   "execution_count": null,
   "id": "b68f5fc3-f0d3-474f-8e48-c13c753ef265",
   "metadata": {},
   "outputs": [],
   "source": [
    "print(f\"Number of city : {len(list(summar_data_merged_df['City'].unique()))}\")\n",
    "print(\n",
    "    f\"Number of Sport : {len(list(summar_data_merged_df['Sport'].unique()))}\")\n",
    "print(\n",
    "    f\"Number of Discipline : {len(list(summar_data_merged_df['Discipline'].unique()))}\")\n",
    "print(\n",
    "    f\"Number of Country : {len(list(summar_data_merged_df['Country_x'].unique()))}\")\n",
    "print(\n",
    "    f\"Number of Event : {len(list(summar_data_merged_df['Event'].unique()))}\")\n",
    "print(\n",
    "    f\"Number of Athlete : {len(list(summar_data_merged_df['Athlete'].unique()))}\")\n",
    "print(\n",
    "    f\"Number of Medal : {len(list(summar_data_merged_df['Medal'].unique()))}\")\n",
    "print(f\"Number of year : {len(list(summar_data_merged_df['Year'].unique()))}\")"
   ]
  },
  {
   "cell_type": "markdown",
   "id": "726c8c60-a9b3-4e02-ab48-df9fd3072d5c",
   "metadata": {},
   "source": [
    "## Winter Games"
   ]
  },
  {
   "cell_type": "code",
   "execution_count": null,
   "id": "5e1f6fb7-9ca7-4fac-acba-5e9ec27baabe",
   "metadata": {},
   "outputs": [],
   "source": [
    "import plotly.express as px\n",
    "import pandas as pd\n",
    "\n",
    "# Example DataFrame\n",
    "data = {\n",
    "    'Year': [1924, 1924, 1924, 1924, 1924, 2014, 2014, 2014, 2014, 2014],\n",
    "    'Country_x': ['AUT', 'BEL', 'CAN', 'FIN', 'FRA', 'SUI', 'SVK', 'SWE', 'UKR', 'USA'],\n",
    "    'Medal Count': [4, 5, 9, 15, 12, 32, 1, 55, 5, 50]\n",
    "}\n",
    "df = pd.DataFrame(data)\n",
    "df = winter_data_merged_df.groupby(\n",
    "    ['Year', 'Country_x']).size().reset_index(name='Medal Count')\n",
    "\n",
    "# Create a Plotly line plot\n",
    "fig = px.line(\n",
    "    df,\n",
    "    x='Year',\n",
    "    y='Medal Count',\n",
    "    color='Country_x',\n",
    "    title=\"Medal Counts Over the Years\",\n",
    "    labels={'Year': 'Year', 'Medal Count': 'Medal Count', 'Country_x': 'Country'},\n",
    "    markers=True\n",
    ")\n",
    "\n",
    "# Customize the layout\n",
    "fig.update_layout(\n",
    "    title_font_size=20,\n",
    "    xaxis_title_font_size=16,\n",
    "    yaxis_title_font_size=16,\n",
    "    legend_title=\"Country\",\n",
    "    legend=dict(title_font_size=14, font_size=12)\n",
    ")\n",
    "\n",
    "# Show the plot\n",
    "fig.show()"
   ]
  },
  {
   "cell_type": "code",
   "execution_count": null,
   "id": "c3a9a946-b00d-41f6-8a3b-187de7b3f206",
   "metadata": {},
   "outputs": [],
   "source": [
    "medal_trends"
   ]
  },
  {
   "cell_type": "code",
   "execution_count": null,
   "id": "edc7b135-b6bc-4fa2-b9cb-40919b36e470",
   "metadata": {},
   "outputs": [],
   "source": [
    "winter_data_merged_df"
   ]
  },
  {
   "cell_type": "code",
   "execution_count": null,
   "id": "b409d6e6-f133-406e-956d-8e0eed0bb28f",
   "metadata": {},
   "outputs": [],
   "source": [
    "medal_trends = df.groupby(\n",
    "    ['Year', 'Country_x']).size().reset_index(name='Medal Count')\n",
    "\n",
    "# # Calculate total medals for each country\n",
    "# total_medals = medal_trends.groupby('Country_x')['Medal Count'].sum().reset_index()\n",
    "\n",
    "# # Sort countries by total medal count and select the top N (e.g., top 10 countries)\n",
    "# top_countries = total_medals.sort_values(by='Medal Count', ascending=False).head(top_n)['Country_x']\n",
    "\n",
    "# # Filter the original data to include only top countries\n",
    "# filtered_df = medal_trends[medal_trends['Country_x'].isin(top_countries)]"
   ]
  },
  {
   "cell_type": "markdown",
   "id": "a68224ec-4072-428a-9f11-8e75d31c9a16",
   "metadata": {},
   "source": [
    "### 1. Trends in Medal Counts Over Time"
   ]
  },
  {
   "cell_type": "code",
   "execution_count": null,
   "id": "56f32748-f93e-4981-a243-630d6ffd1c37",
   "metadata": {},
   "outputs": [],
   "source": []
  },
  {
   "cell_type": "code",
   "execution_count": null,
   "id": "0dfc8545-46f8-4829-84fd-274c9a8b340f",
   "metadata": {},
   "outputs": [],
   "source": [
    "df = winter_data_merged_df"
   ]
  },
  {
   "cell_type": "code",
   "execution_count": null,
   "id": "ef45b174-e41e-4916-acbb-15b46aeff18d",
   "metadata": {},
   "outputs": [],
   "source": [
    "top_n = 10\n",
    "medal_trends = df.groupby(\n",
    "    ['Year', 'Country_x', 'City', 'Sport']).size().reset_index(name='Medal Count')\n",
    "\n",
    "# Calculate total medals for each country\n",
    "total_medals = medal_trends.groupby(['Country_x', 'City', 'Sport'])[\n",
    "    'Medal Count'].sum().reset_index()\n",
    "\n",
    "# Sort countries by total medal count and select the top N (e.g., top 10 countries)\n",
    "top_countries = total_medals.sort_values(\n",
    "    by='Medal Count', ascending=False).head(top_n)['Country_x']\n",
    "\n",
    "# Filter the original data to include only top countries\n",
    "filtered_df = medal_trends[medal_trends['Country_x'].isin(top_countries)]\n",
    "\n",
    "\n",
    "fig = px.bar(\n",
    "    filtered_df,\n",
    "    x='Sport',\n",
    "    y='Medal Count',\n",
    "    color='Year',\n",
    "    title=\"Medal Counts by Sport\",\n",
    "    barmode=\"group\"\n",
    ")\n",
    "fig.show()"
   ]
  },
  {
   "cell_type": "code",
   "execution_count": null,
   "id": "886401a6-2a07-471d-a3ff-d2260ed50af3",
   "metadata": {},
   "outputs": [],
   "source": [
    "winter_data_merged_df.groupby(\n",
    "    ['Year', 'Country_x', 'Discipline']).size().reset_index(name='Medal Count')"
   ]
  },
  {
   "cell_type": "code",
   "execution_count": null,
   "id": "88a7c26d-a9cd-4137-842b-24475bbfbe6b",
   "metadata": {},
   "outputs": [],
   "source": [
    "list(winter_data_merged_df)"
   ]
  },
  {
   "cell_type": "code",
   "execution_count": null,
   "id": "fc2e7531-f302-4388-9730-12b5e1e8c2ae",
   "metadata": {},
   "outputs": [],
   "source": [
    "for index, group_name in winter_data_merged_df.groupby(['Year', 'Country_x', 'Discipline']):\n",
    "    break\n",
    "group_name"
   ]
  },
  {
   "cell_type": "code",
   "execution_count": null,
   "id": "adfec9ae-d169-4162-b11e-5826735a4f46",
   "metadata": {},
   "outputs": [],
   "source": [
    "medal_trends[medal_trends['Country_x'] == 'AUT']"
   ]
  },
  {
   "cell_type": "code",
   "execution_count": null,
   "id": "05d20482-ce85-42b1-9ab9-56f19f9d972c",
   "metadata": {},
   "outputs": [],
   "source": [
    "total_medals"
   ]
  },
  {
   "cell_type": "code",
   "execution_count": null,
   "id": "6ecb0837-45c1-4281-8b62-0fdb1e906264",
   "metadata": {},
   "outputs": [],
   "source": [
    "total_medals"
   ]
  },
  {
   "cell_type": "code",
   "execution_count": null,
   "id": "47fec66a-d56e-4d91-8dd1-396ee9596e3e",
   "metadata": {},
   "outputs": [],
   "source": [
    "filtered_data"
   ]
  },
  {
   "cell_type": "code",
   "execution_count": null,
   "id": "af308dab-386b-44de-a845-175b876cb3b3",
   "metadata": {},
   "outputs": [],
   "source": [
    "# Group data by year and country to get medal counts\n",
    "medal_trends = winter_data_merged_df.groupby(\n",
    "    ['Year', 'Country_x']).size().reset_index(name='Medal Count')\n",
    "\n",
    "# Calculate total medals for each country\n",
    "total_medals = medal_trends.groupby(\n",
    "    'Country_x')['Medal Count'].sum().reset_index()\n",
    "\n",
    "# Sort countries by total medal count and select the top N (e.g., top 10 countries)\n",
    "top_countries = total_medals.sort_values(\n",
    "    by='Medal Count', ascending=False).head(10)['Country_x']\n",
    "\n",
    "# Filter the original data to include only top countries\n",
    "filtered_data = medal_trends[medal_trends['Country_x'].isin(top_countries)]\n",
    "\n",
    "# Pivot the data for plotting\n",
    "pivot_data = filtered_data.pivot(\n",
    "    index='Year', columns='Country_x', values='Medal Count').fillna(0)\n",
    "\n",
    "# Plot the trends for the top N countries\n",
    "plt.figure(figsize=(15, 8))\n",
    "pivot_data.plot(ax=plt.gca(), marker='o')\n",
    "plt.title(\"Trends in Medal Counts Over Time (Top 10 Countries)\", fontsize=16)\n",
    "plt.xlabel(\"Year\", fontsize=14)\n",
    "plt.ylabel(\"Medal Count\", fontsize=14)\n",
    "plt.legend(title=\"Country\", bbox_to_anchor=(1.05, 1), loc='upper left')\n",
    "plt.tight_layout()\n",
    "plt.show()"
   ]
  },
  {
   "cell_type": "code",
   "execution_count": null,
   "id": "58fec238-4e3c-4f49-940c-95fdcdfb093a",
   "metadata": {},
   "outputs": [],
   "source": [
    "# Group data by year and country to get medal counts\n",
    "medal_trends = winter_data_merged_df.groupby(\n",
    "    ['Year', 'Country_x']).size().reset_index(name='Medal Count')\n",
    "\n",
    "# Pivot the data for stacked bar chart\n",
    "pivot_data = medal_trends.pivot(\n",
    "    index='Year', columns='Country_x', values='Medal Count').fillna(0)\n",
    "\n",
    "# Plot the stacked bar chart\n",
    "plt.figure(figsize=(15, 8))\n",
    "pivot_data.plot(kind='bar', stacked=True, ax=plt.gca())\n",
    "plt.title(\"Trends in Medal Counts Over Time (Stacked)\", fontsize=16)\n",
    "plt.xlabel(\"Year\", fontsize=14)\n",
    "plt.ylabel(\"Medal Count\", fontsize=14)\n",
    "plt.legend(title=\"Country\", bbox_to_anchor=(1.05, 1), loc='upper left')\n",
    "plt.tight_layout()\n",
    "plt.show()"
   ]
  },
  {
   "cell_type": "markdown",
   "id": "92bbb922-02fa-4f9d-8c00-9d3048daaeec",
   "metadata": {},
   "source": [
    "### 2. Medal Distribution by Gender"
   ]
  },
  {
   "cell_type": "code",
   "execution_count": null,
   "id": "069c128f-e081-4507-aa26-9e63c5deb85e",
   "metadata": {},
   "outputs": [],
   "source": [
    "import seaborn as sns\n",
    "\n",
    "# Group data by country and gender\n",
    "gender_distribution = winter_data_merged_df.groupby(\n",
    "    ['Country_x', 'Gender']).size().reset_index(name='Medal Count')\n",
    "\n",
    "# Plot the distribution\n",
    "plt.figure(figsize=(12, 6))\n",
    "sns.barplot(x='Country_x', y='Medal Count',\n",
    "            hue='Gender', data=gender_distribution)\n",
    "plt.title(\"Medal Distribution by Gender\", fontsize=16)\n",
    "plt.xlabel(\"Country\", fontsize=14)\n",
    "plt.ylabel(\"Medal Count\", fontsize=14)\n",
    "plt.xticks(rotation=45, ha='right')\n",
    "plt.tight_layout()\n",
    "plt.show()"
   ]
  },
  {
   "cell_type": "markdown",
   "id": "3e885748-642a-497d-ac90-9158fedff846",
   "metadata": {},
   "source": [
    "### 3. Medal Counts by Sport/Discipline"
   ]
  },
  {
   "cell_type": "code",
   "execution_count": null,
   "id": "5a3c0068-59e2-4249-8d76-457481f3a22a",
   "metadata": {},
   "outputs": [],
   "source": [
    "# Group data by sport and medal type\n",
    "sport_medals = winter_data_merged_df.groupby(\n",
    "    ['Sport', 'Medal']).size().reset_index(name='Medal Count')\n",
    "\n",
    "# Plot the medal counts by sport\n",
    "plt.figure(figsize=(14, 7))\n",
    "sns.barplot(x='Sport', y='Medal Count', hue='Medal', data=sport_medals)\n",
    "plt.title(\"Medal Counts by Sport\", fontsize=16)\n",
    "plt.xlabel(\"Sport\", fontsize=14)\n",
    "plt.ylabel(\"Medal Count\", fontsize=14)\n",
    "plt.xticks(rotation=45, ha='right')\n",
    "plt.tight_layout()\n",
    "plt.show()"
   ]
  },
  {
   "cell_type": "markdown",
   "id": "fceb74ea-46ec-4336-9190-88345c0de940",
   "metadata": {},
   "source": [
    "### 4. Relationship Between Economic Indicators and Medals\n"
   ]
  },
  {
   "cell_type": "code",
   "execution_count": null,
   "id": "fc6ca14e-0378-4100-8296-74304e44879e",
   "metadata": {},
   "outputs": [],
   "source": [
    "# Group by country and calculate total medals\n",
    "gdp_medals = winter_data_merged_df.groupby(\n",
    "    ['Country_x', 'GDP per Capita']).size().reset_index(name='Medal Count')\n",
    "\n",
    "# Scatter plot\n",
    "plt.figure(figsize=(10, 6))\n",
    "sns.scatterplot(x='GDP per Capita', y='Medal Count',\n",
    "                hue='Country_x', size='Medal Count', data=gdp_medals)\n",
    "plt.title(\"Relationship Between GDP and Medal Count\", fontsize=16)\n",
    "plt.xlabel(\"GDP per Capita\", fontsize=14)\n",
    "plt.ylabel(\"Medal Count\", fontsize=14)\n",
    "plt.legend(title=\"Country\", bbox_to_anchor=(1.05, 1), loc='upper left')\n",
    "plt.tight_layout()\n",
    "plt.show()"
   ]
  },
  {
   "cell_type": "markdown",
   "id": "00fd5757-61d9-4b30-a3c7-770c73f35672",
   "metadata": {},
   "source": [
    "### 5. Medal Trends by Event"
   ]
  },
  {
   "cell_type": "code",
   "execution_count": null,
   "id": "752f0a17-4bb5-404f-bc46-444987d162b7",
   "metadata": {},
   "outputs": [],
   "source": []
  },
  {
   "cell_type": "markdown",
   "id": "6e9f1a60-53ce-4d2e-bdfa-93382c24aa99",
   "metadata": {},
   "source": [
    "### 6. Medal Proportion by Country"
   ]
  },
  {
   "cell_type": "code",
   "execution_count": null,
   "id": "ca585ca5-d853-4970-baaf-99b2530e0dec",
   "metadata": {},
   "outputs": [],
   "source": []
  },
  {
   "cell_type": "markdown",
   "id": "de5515cd-2afc-48ec-9497-045c6a3a176e",
   "metadata": {},
   "source": [
    "### 7. Medal Trends by Gender and Year\n"
   ]
  },
  {
   "cell_type": "code",
   "execution_count": null,
   "id": "d22a9c4b-b85e-44c3-8ac0-35278e3c8e36",
   "metadata": {},
   "outputs": [],
   "source": []
  },
  {
   "cell_type": "markdown",
   "id": "7e7a3696-e71d-4b8d-92b3-7594b2a9b266",
   "metadata": {},
   "source": [
    "### 8. Top Countries in Each Year"
   ]
  },
  {
   "cell_type": "code",
   "execution_count": null,
   "id": "bda8e3ea-320e-4a8c-82af-f3e463f634be",
   "metadata": {},
   "outputs": [],
   "source": []
  },
  {
   "cell_type": "markdown",
   "id": "7be11d30-afd1-45fd-a136-b1664d6e4369",
   "metadata": {},
   "source": [
    "### 9. Economic Performance vs. Medal Distribution\n"
   ]
  },
  {
   "cell_type": "code",
   "execution_count": null,
   "id": "5bf7a4f4-090c-486c-a7d7-d9a5cb376790",
   "metadata": {},
   "outputs": [],
   "source": []
  },
  {
   "cell_type": "markdown",
   "id": "6051a8ad-9042-4d9d-a092-fb3c71fd12ac",
   "metadata": {},
   "source": [
    "### 10. Medal Performance of a Specific Country\n"
   ]
  },
  {
   "cell_type": "code",
   "execution_count": null,
   "id": "2d3c6012-ab49-4bf4-b62d-c2e220fdec55",
   "metadata": {},
   "outputs": [],
   "source": []
  },
  {
   "cell_type": "markdown",
   "id": "f1671ce2-f5a3-4356-b043-0032ff77a530",
   "metadata": {},
   "source": [
    "### 11. Medal Trends in the Context of Population\n"
   ]
  },
  {
   "cell_type": "code",
   "execution_count": null,
   "id": "9a784dd2-23a0-4069-a0b6-65060a31b363",
   "metadata": {},
   "outputs": [],
   "source": []
  },
  {
   "cell_type": "markdown",
   "id": "a41e370b-cc5e-4a70-8c0e-686806dd8d99",
   "metadata": {},
   "source": [
    "### 12. Forecasting Future Trends\n"
   ]
  },
  {
   "cell_type": "code",
   "execution_count": null,
   "id": "955739d5-e0b8-4900-a633-07fc2e7916bf",
   "metadata": {},
   "outputs": [],
   "source": [
    "from fbprophet import Prophet\n",
    "\n",
    "# Prepare data for Prophet\n",
    "forecast_data = data.groupby(\n",
    "    ['Year', 'Country_x']).size().reset_index(name='Medal Count')\n",
    "forecast_data = forecast_data.rename(\n",
    "    columns={\"Year\": \"ds\", \"Medal Count\": \"y\"})\n",
    "\n",
    "# Filter for a single country (e.g., USA)\n",
    "usa_data = forecast_data[forecast_data['Country_x'] == 'United States']\n",
    "\n",
    "# Train the model\n",
    "model = Prophet()\n",
    "model.fit(usa_data[['ds', 'y']])\n",
    "\n",
    "# Make future predictions\n",
    "# Forecast for 3 future Olympic years\n",
    "future = model.make_future_dataframe(periods=3, freq='Y')\n",
    "forecast = model.predict(future)\n",
    "\n",
    "# Plot the forecast\n",
    "model.plot(forecast)\n",
    "plt.title(\"Medal Count Forecast for United States\", fontsize=16)\n",
    "plt.xlabel(\"Year\", fontsize=14)\n",
    "plt.ylabel(\"Medal Count\", fontsize=14)\n",
    "plt.show()"
   ]
  },
  {
   "cell_type": "code",
   "execution_count": null,
   "id": "1bf302d5-eb14-4ad3-a69d-d92d3168116d",
   "metadata": {},
   "outputs": [],
   "source": [
    "!pip install"
   ]
  }
 ],
 "metadata": {
  "kernelspec": {
   "display_name": "venv",
   "language": "python",
   "name": "python3"
  },
  "language_info": {
   "codemirror_mode": {
    "name": "ipython",
    "version": 3
   },
   "file_extension": ".py",
   "mimetype": "text/x-python",
   "name": "python",
   "nbconvert_exporter": "python",
   "pygments_lexer": "ipython3",
   "version": "3.10.11"
  }
 },
 "nbformat": 4,
 "nbformat_minor": 5
}
